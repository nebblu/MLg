{
 "cells": [
  {
   "cell_type": "markdown",
   "metadata": {},
   "source": [
    "<hr style=\"border-width:2px;border-color:#75DFC1\">\n",
    "<h1 style = \"text-align:center\" > UniGe Cosmo Machine Learning </h1> \n",
    "<h2 style = \"text-align:center\"> Tutorial 0 - Intro to Pandas </h2> \n",
    "<h3 style = \"text-align:center\"> 21.02.2020 - Michele </h3> \n",
    "<hr style=\"border-width:2px;border-color:#75DFC1\">\n",
    "\n",
    "\n",
    "> This tutotial priovides an introdiction to **pandas**\n",
    "\n",
    "> In this excercise, we will **explore the increase in publications on the arXiv that deal with Machine Learning between 2007 and 2018**. The goal will be to show the increment in such publications over the last 10 years with a focus on physics. \n",
    "( This exercise actually reproduces the plots of the paper *\"The (non)-neutrality of science and algorithms: Machine Learning between fundamental physics and society\"*. (Struggling to put it on the arXiv in English, published <a href=https://thelabsquarterly.files.wordpress.com/2019/04/2018.4-the-labs-quarterly-5.-aniello-lampo-michele-mancarella-angelo-piga-1.pdf > in Italian </a>  :-/ ) )\n",
    "\n",
    "> A notebook with the full analysis and a script to obtain the data are available at https://github.com/Mik3M4n/ML_physics_society\n",
    "\n",
    "> Why pandas? pandas is thought so as to make easy the handling of \"largish\" datasets (for really LARGE datasets, use PySpark ! ). It is straightforward, proveides good viz tools, and many one-line commands to perform the most common operations on datasets (typically: filter, sort, group, apply functions, get derived features)\n",
    "\n",
    "> Summary:\n",
    "* Load and describe data: .read_csv, .shape, .sort\n",
    "* Clean data and extract useful information: check for NA and duplicates, .apply , ...\n",
    "* Group and select data \n",
    "\n",
    "> Goals:\n",
    "* Learn how to load, clean, explore, prepare your data\n",
    "\n",
    "\n",
    "> Packages and resources:\n",
    "* **pandas** (surprise): see the <a href = http://pandas.pydata.org/pandas-docs/stable/>documentation</a> "
   ]
  },
  {
   "cell_type": "markdown",
   "metadata": {},
   "source": [
    "<hr style=\"border-width:2px;border-color:#75DFC1\">\n",
    "<h2 style = \"text-align:center\">  Data and problem </h2> \n",
    "<hr style=\"border-width:2px;border-color:#75DFC1\">\n",
    "\n",
    "\n",
    "\n",
    "> Data are obtained by three different queries on the arXiv: \n",
    "    * with keyword \"Machine Learning\" in title/abstract\n",
    "    * with keyword \"Deep Learning\" in title/abstract\n",
    "    * with keyword \"Neural Networks\" in title/abstract\n",
    "\n",
    "The corespondig data are stored in the files arxiv_ML.csv, arxiv_DL.csv, arxiv_NN.csv in the Dropbox folder. Download them in a folder called data/ inside your local git folder"
   ]
  },
  {
   "cell_type": "markdown",
   "metadata": {},
   "source": [
    "<hr style=\"border-width:2px;border-color:#75DFC1\">\n",
    "<h2 style = \"text-align:center\"> Load, read, describe data </h2> \n",
    "<hr style=\"border-width:2px;border-color:#75DFC1\">\n"
   ]
  },
  {
   "cell_type": "code",
   "execution_count": 1,
   "metadata": {},
   "outputs": [],
   "source": [
    "import pandas as pd\n",
    "import seaborn as sns\n",
    "import numpy as np\n",
    "import glob\n",
    "\n",
    "import matplotlib.pyplot as plt\n",
    "%matplotlib inline\n",
    "#set ggplot style\n",
    "plt.style.use('ggplot')"
   ]
  },
  {
   "cell_type": "markdown",
   "metadata": {},
   "source": [
    "> The fundamental object in pandas is a *dataframe*. It's a two-dimensional, size-mutable object that can contain any type of data. \n",
    "See https://pandas.pydata.org/pandas-docs/stable/reference/frame.html for a list of methods\n",
    "\n",
    "> The function <a href = \"https://pandas.pydata.org/pandas-docs/stable/reference/api/pandas.read_csv.html?highlight=read_csv#pandas.read_csv\"> **read_csv** </a> loads a csv file in a pandas dataframe"
   ]
  },
  {
   "cell_type": "code",
   "execution_count": 27,
   "metadata": {},
   "outputs": [],
   "source": [
    "df_ML = pd.read_csv('data/arxiv_ML.csv')\n",
    "df_DL = pd.read_csv('data/arxiv_DL.csv')\n",
    "df_NN = pd.read_csv('data/arxiv_NN.csv')\n",
    "\n",
    "# I put all the df in a list and will then work on this list. \n",
    "# This make easy to extend the analysus, e.g. if we want to add other queries\n",
    "df_all = [df_ML, df_NN, df_DL]\n",
    "df_names = ['Machine Learning', 'Neural Networks', 'Deep Learning']"
   ]
  },
  {
   "cell_type": "markdown",
   "metadata": {},
   "source": [
    "<span style=\"color:#09b038; text-decoration : underline\"> Exercise : </span><br> \n",
    "* Can you find any *bad* python practise in the above cell ?"
   ]
  },
  {
   "cell_type": "markdown",
   "metadata": {},
   "source": [
    "#### Useful methods"
   ]
  },
  {
   "cell_type": "markdown",
   "metadata": {},
   "source": [
    "The method .head(n_lines) displays the first n_lines. Good to have a glace at your data"
   ]
  },
  {
   "cell_type": "code",
   "execution_count": 28,
   "metadata": {},
   "outputs": [
    {
     "data": {
      "text/html": [
       "<div>\n",
       "<style scoped>\n",
       "    .dataframe tbody tr th:only-of-type {\n",
       "        vertical-align: middle;\n",
       "    }\n",
       "\n",
       "    .dataframe tbody tr th {\n",
       "        vertical-align: top;\n",
       "    }\n",
       "\n",
       "    .dataframe thead th {\n",
       "        text-align: right;\n",
       "    }\n",
       "</style>\n",
       "<table border=\"1\" class=\"dataframe\">\n",
       "  <thead>\n",
       "    <tr style=\"text-align: right;\">\n",
       "      <th></th>\n",
       "      <th>ID</th>\n",
       "      <th>date</th>\n",
       "      <th>title</th>\n",
       "      <th>author</th>\n",
       "      <th>link</th>\n",
       "      <th>journal</th>\n",
       "      <th>comments</th>\n",
       "      <th>primary_cat</th>\n",
       "      <th>all_cat</th>\n",
       "      <th>abstract</th>\n",
       "    </tr>\n",
       "  </thead>\n",
       "  <tbody>\n",
       "    <tr>\n",
       "      <td>0</td>\n",
       "      <td>1812.06055v1</td>\n",
       "      <td>2018-12-14T18:02:42Z</td>\n",
       "      <td>Transfer learning to model inertial confinemen...</td>\n",
       "      <td>K. D. Humbird,J. L. Peterson,R. G. McClarren</td>\n",
       "      <td>http://arxiv.org/abs/1812.06055v1</td>\n",
       "      <td>None</td>\n",
       "      <td>None</td>\n",
       "      <td>cs.LG</td>\n",
       "      <td>['cs.LG', 'stat.ML']</td>\n",
       "      <td>Inertial confinement fusion (ICF) experiments ...</td>\n",
       "    </tr>\n",
       "    <tr>\n",
       "      <td>1</td>\n",
       "      <td>1812.06034v1</td>\n",
       "      <td>2018-12-14T17:15:24Z</td>\n",
       "      <td>Scalable Privacy-Compliant Virality Prediction...</td>\n",
       "      <td>Damian Konrad Kowalczyk,Jan Larsen</td>\n",
       "      <td>http://arxiv.org/abs/1812.06034v1</td>\n",
       "      <td>None</td>\n",
       "      <td>Presented at AAAI-19 W1: Affective Content Ana...</td>\n",
       "      <td>cs.SI</td>\n",
       "      <td>['cs.SI']</td>\n",
       "      <td>The digital town hall of Twitter becomes a pre...</td>\n",
       "    </tr>\n",
       "  </tbody>\n",
       "</table>\n",
       "</div>"
      ],
      "text/plain": [
       "             ID                  date  \\\n",
       "0  1812.06055v1  2018-12-14T18:02:42Z   \n",
       "1  1812.06034v1  2018-12-14T17:15:24Z   \n",
       "\n",
       "                                               title  \\\n",
       "0  Transfer learning to model inertial confinemen...   \n",
       "1  Scalable Privacy-Compliant Virality Prediction...   \n",
       "\n",
       "                                         author  \\\n",
       "0  K. D. Humbird,J. L. Peterson,R. G. McClarren   \n",
       "1            Damian Konrad Kowalczyk,Jan Larsen   \n",
       "\n",
       "                                link journal  \\\n",
       "0  http://arxiv.org/abs/1812.06055v1    None   \n",
       "1  http://arxiv.org/abs/1812.06034v1    None   \n",
       "\n",
       "                                            comments primary_cat  \\\n",
       "0                                               None       cs.LG   \n",
       "1  Presented at AAAI-19 W1: Affective Content Ana...       cs.SI   \n",
       "\n",
       "                all_cat                                           abstract  \n",
       "0  ['cs.LG', 'stat.ML']  Inertial confinement fusion (ICF) experiments ...  \n",
       "1             ['cs.SI']  The digital town hall of Twitter becomes a pre...  "
      ]
     },
     "execution_count": 28,
     "metadata": {},
     "output_type": "execute_result"
    }
   ],
   "source": [
    "df_ML.head(2)"
   ]
  },
  {
   "cell_type": "markdown",
   "metadata": {},
   "source": [
    "The method .shape returns dimension of the dataframe (as in numpy) in the form (n_rows, n_columns)"
   ]
  },
  {
   "cell_type": "code",
   "execution_count": 29,
   "metadata": {},
   "outputs": [
    {
     "name": "stdout",
     "output_type": "stream",
     "text": [
      "Machine Learning - N. of papers: 11637\n",
      "Neural Networks - N. of papers: 38044\n",
      "Deep Learning - N. of papers: 7716\n",
      "Total papers: 57397\n"
     ]
    }
   ],
   "source": [
    "# Check how many data we have: the method .shape returns dimension of the dataframe (as in numpy)\n",
    "\n",
    "for i in range(len(df_all)):\n",
    "    print(df_names[i]+' - N. of papers: %s' %df_all[i].shape[0] )\n",
    "print('Total papers: %s' %np.sum([df.shape[0] for df in df_all]))"
   ]
  },
  {
   "cell_type": "code",
   "execution_count": 30,
   "metadata": {},
   "outputs": [
    {
     "name": "stdout",
     "output_type": "stream",
     "text": [
      "<class 'pandas.core.frame.DataFrame'>\n",
      "RangeIndex: 11637 entries, 0 to 11636\n",
      "Data columns (total 10 columns):\n",
      "ID             11637 non-null object\n",
      "date           11637 non-null object\n",
      "title          11637 non-null object\n",
      "author         11637 non-null object\n",
      "link           11637 non-null object\n",
      "journal        11637 non-null object\n",
      "comments       11637 non-null object\n",
      "primary_cat    11637 non-null object\n",
      "all_cat        11637 non-null object\n",
      "abstract       11637 non-null object\n",
      "dtypes: object(10)\n",
      "memory usage: 909.3+ KB\n"
     ]
    }
   ],
   "source": [
    "df_ML.info()"
   ]
  },
  {
   "cell_type": "code",
   "execution_count": 31,
   "metadata": {},
   "outputs": [
    {
     "data": {
      "text/html": [
       "<div>\n",
       "<style scoped>\n",
       "    .dataframe tbody tr th:only-of-type {\n",
       "        vertical-align: middle;\n",
       "    }\n",
       "\n",
       "    .dataframe tbody tr th {\n",
       "        vertical-align: top;\n",
       "    }\n",
       "\n",
       "    .dataframe thead th {\n",
       "        text-align: right;\n",
       "    }\n",
       "</style>\n",
       "<table border=\"1\" class=\"dataframe\">\n",
       "  <thead>\n",
       "    <tr style=\"text-align: right;\">\n",
       "      <th></th>\n",
       "      <th>ID</th>\n",
       "      <th>date</th>\n",
       "      <th>title</th>\n",
       "      <th>author</th>\n",
       "      <th>link</th>\n",
       "      <th>journal</th>\n",
       "      <th>comments</th>\n",
       "      <th>primary_cat</th>\n",
       "      <th>all_cat</th>\n",
       "      <th>abstract</th>\n",
       "    </tr>\n",
       "  </thead>\n",
       "  <tbody>\n",
       "    <tr>\n",
       "      <td>count</td>\n",
       "      <td>11637</td>\n",
       "      <td>11637</td>\n",
       "      <td>11637</td>\n",
       "      <td>11637</td>\n",
       "      <td>11637</td>\n",
       "      <td>11637</td>\n",
       "      <td>11637</td>\n",
       "      <td>11637</td>\n",
       "      <td>11637</td>\n",
       "      <td>11637</td>\n",
       "    </tr>\n",
       "    <tr>\n",
       "      <td>unique</td>\n",
       "      <td>10009</td>\n",
       "      <td>9992</td>\n",
       "      <td>9993</td>\n",
       "      <td>9607</td>\n",
       "      <td>10009</td>\n",
       "      <td>1342</td>\n",
       "      <td>4908</td>\n",
       "      <td>135</td>\n",
       "      <td>3026</td>\n",
       "      <td>10002</td>\n",
       "    </tr>\n",
       "    <tr>\n",
       "      <td>top</td>\n",
       "      <td>1701.03220v1</td>\n",
       "      <td>2012-06-27T19:59:59Z</td>\n",
       "      <td>Robust Machine Learning Applied to Terascale A...</td>\n",
       "      <td>Peter D. Turney</td>\n",
       "      <td>http://arxiv.org/abs/1612.08914v1</td>\n",
       "      <td>None</td>\n",
       "      <td>None</td>\n",
       "      <td>cs.LG</td>\n",
       "      <td>['cs.LG', 'stat.ML']</td>\n",
       "      <td>Designing and implementing efficient, provably...</td>\n",
       "    </tr>\n",
       "    <tr>\n",
       "      <td>freq</td>\n",
       "      <td>2</td>\n",
       "      <td>8</td>\n",
       "      <td>4</td>\n",
       "      <td>9</td>\n",
       "      <td>2</td>\n",
       "      <td>10012</td>\n",
       "      <td>4595</td>\n",
       "      <td>2214</td>\n",
       "      <td>597</td>\n",
       "      <td>4</td>\n",
       "    </tr>\n",
       "  </tbody>\n",
       "</table>\n",
       "</div>"
      ],
      "text/plain": [
       "                  ID                  date  \\\n",
       "count          11637                 11637   \n",
       "unique         10009                  9992   \n",
       "top     1701.03220v1  2012-06-27T19:59:59Z   \n",
       "freq               2                     8   \n",
       "\n",
       "                                                    title           author  \\\n",
       "count                                               11637            11637   \n",
       "unique                                               9993             9607   \n",
       "top     Robust Machine Learning Applied to Terascale A...  Peter D. Turney   \n",
       "freq                                                    4                9   \n",
       "\n",
       "                                     link journal comments primary_cat  \\\n",
       "count                               11637   11637    11637       11637   \n",
       "unique                              10009    1342     4908         135   \n",
       "top     http://arxiv.org/abs/1612.08914v1    None     None       cs.LG   \n",
       "freq                                    2   10012     4595        2214   \n",
       "\n",
       "                     all_cat  \\\n",
       "count                  11637   \n",
       "unique                  3026   \n",
       "top     ['cs.LG', 'stat.ML']   \n",
       "freq                     597   \n",
       "\n",
       "                                                 abstract  \n",
       "count                                               11637  \n",
       "unique                                              10002  \n",
       "top     Designing and implementing efficient, provably...  \n",
       "freq                                                    4  "
      ]
     },
     "execution_count": 31,
     "metadata": {},
     "output_type": "execute_result"
    }
   ],
   "source": [
    "df_ML.describe()"
   ]
  },
  {
   "cell_type": "markdown",
   "metadata": {},
   "source": [
    "Note that there are less unique IDs than points! Wee need to check for duplicates"
   ]
  },
  {
   "cell_type": "markdown",
   "metadata": {},
   "source": [
    "#### Indexing"
   ]
  },
  {
   "cell_type": "markdown",
   "metadata": {},
   "source": [
    "> Indexing on a dataframe is a generalisation of that of a list, but more general: a column or variable is generally designated by its name (not only number). Lines generally do not carry a name and are identified by an integer.\n",
    "\n",
    ">* To extract one or more columns, you only need to put between brackets the list of column names to extract.<br>\n",
    "> <span style=\"color:#09b038; text-decoration : underline\"> Example : </span><br> \n",
    "```python\n",
    "  df_ML[[\"title\",\"author\"]] # extracts columns title and author\n",
    "```\n",
    "\n",
    ">* To extract one or more lines, we use method <a href = \"https://pandas.pydata.org/pandas-docs/stable/generated/pandas.DataFrame.loc.html\">loc</a>.<br>\n",
    "> <span style=\"color:#09b038; text-decoration : underline\"> Example : </span><br> \n",
    "```python\n",
    "  df_ML.loc[[4,9]] #extracts 5th et 10th line of df_ML (reminder: indices start at 0!)\n",
    "```\n",
    "\n",
    ">* Symbol '**<span style=\"color:#A93226\">:</span>**' is used for a range of values.<br>\n",
    "> <span style=\"color:#09b038; text-decoration : underline\"> Example :</span><br> \n",
    "```python\n",
    "  df_ML.loc[0:9,\"abstract\"] #to extract first 10 abstracts\n",
    "```\n"
   ]
  },
  {
   "cell_type": "markdown",
   "metadata": {},
   "source": [
    "In how many primary cathegories does the term 'Deep Learning' appear ? \n",
    "Use the method .value_count()"
   ]
  },
  {
   "cell_type": "code",
   "execution_count": 32,
   "metadata": {},
   "outputs": [
    {
     "data": {
      "text/plain": [
       "array(['cs.CV', 'cs.LG', 'cs.DC', 'astro-ph.CO', 'cs.NI', 'cs.SE',\n",
       "       'math.OC', 'cs.CR', 'cs.IT', 'stat.ML', 'quant-ph', 'eess.SP',\n",
       "       'physics.comp-ph', 'cs.AI', 'math.PR', 'cs.CL', 'cs.CY', 'cs.NE',\n",
       "       'cs.RO', 'astro-ph.IM', 'physics.med-ph', 'stat.AP', 'cs.IR',\n",
       "       'eess.AS', 'math.NA', 'cs.PL', 'physics.data-an', 'physics.optics',\n",
       "       'cs.SY', 'cs.PF', 'cs.SI', 'q-bio.BM', 'cs.SD', 'hep-ex',\n",
       "       'q-bio.QM', 'cs.HC', 'q-fin.CP', 'physics.geo-ph', 'cs.MS',\n",
       "       'physics.flu-dyn', 'q-bio.GN', 'cs.MM', 'hep-th', 'cs.GR',\n",
       "       'astro-ph.SR', 'astro-ph.EP', 'q-bio.NC', 'cs.CE', 'astro-ph.GA',\n",
       "       'eess.IV', 'cond-mat.mtrl-sci', 'cond-mat.str-el', 'cond-mat.soft',\n",
       "       'physics.ins-det', 'cond-mat.dis-nn', 'physics.soc-ph', 'q-fin.ST',\n",
       "       'cs.DB', 'econ.EM', 'math.CO', 'math.AP', 'physics.chem-ph',\n",
       "       'cond-mat.quant-gas', 'physics.app-ph', 'nlin.CG', 'q-bio.TO',\n",
       "       'cs.MA', 'hep-ph', 'physics.ao-ph', 'cs.OH', 'math.DS', 'gr-qc',\n",
       "       'cs.CG', 'nucl-th', 'cs.ET', 'cs.DL', 'stat.ME', 'q-fin.PM',\n",
       "       'stat.CO', 'q-bio.MN', 'physics.gen-ph', 'q-bio.PE', 'math.HO',\n",
       "       'cs.GT', 'cs.SC', 'q-bio.CB', 'cond-mat.stat-mech', 'cs.DS',\n",
       "       'q-fin.MF', 'cs.AR', 'q-fin.EC', 'math.FA', 'math.ST', 'hep-lat',\n",
       "       'cs.NA', 'cs.LO', 'q-fin.TR', 'physics.plasm-ph', 'astro-ph.HE'],\n",
       "      dtype=object)"
      ]
     },
     "execution_count": 32,
     "metadata": {},
     "output_type": "execute_result"
    }
   ],
   "source": [
    "df_DL.primary_cat.unique()"
   ]
  },
  {
   "cell_type": "markdown",
   "metadata": {},
   "source": [
    "When was the first paper with \"Deep Learning\" published ? Use .sort()"
   ]
  },
  {
   "cell_type": "code",
   "execution_count": 33,
   "metadata": {},
   "outputs": [
    {
     "data": {
      "text/html": [
       "<div>\n",
       "<style scoped>\n",
       "    .dataframe tbody tr th:only-of-type {\n",
       "        vertical-align: middle;\n",
       "    }\n",
       "\n",
       "    .dataframe tbody tr th {\n",
       "        vertical-align: top;\n",
       "    }\n",
       "\n",
       "    .dataframe thead th {\n",
       "        text-align: right;\n",
       "    }\n",
       "</style>\n",
       "<table border=\"1\" class=\"dataframe\">\n",
       "  <thead>\n",
       "    <tr style=\"text-align: right;\">\n",
       "      <th></th>\n",
       "      <th>ID</th>\n",
       "      <th>date</th>\n",
       "      <th>title</th>\n",
       "      <th>author</th>\n",
       "      <th>link</th>\n",
       "      <th>journal</th>\n",
       "      <th>comments</th>\n",
       "      <th>primary_cat</th>\n",
       "      <th>all_cat</th>\n",
       "      <th>abstract</th>\n",
       "    </tr>\n",
       "  </thead>\n",
       "  <tbody>\n",
       "    <tr>\n",
       "      <td>5599</td>\n",
       "      <td>0809.5087v1</td>\n",
       "      <td>2008-09-29T23:00:22Z</td>\n",
       "      <td>Hybrid Neural Network Architecture for On-Line...</td>\n",
       "      <td>Yuhua Chen,Subhash Kak,Lei Wang</td>\n",
       "      <td>http://arxiv.org/abs/0809.5087v1</td>\n",
       "      <td>None</td>\n",
       "      <td>19 pages, 16 figures</td>\n",
       "      <td>cs.NE</td>\n",
       "      <td>['cs.NE']</td>\n",
       "      <td>Approaches to machine intelligence based on br...</td>\n",
       "    </tr>\n",
       "  </tbody>\n",
       "</table>\n",
       "</div>"
      ],
      "text/plain": [
       "               ID                  date  \\\n",
       "5599  0809.5087v1  2008-09-29T23:00:22Z   \n",
       "\n",
       "                                                  title  \\\n",
       "5599  Hybrid Neural Network Architecture for On-Line...   \n",
       "\n",
       "                               author                              link  \\\n",
       "5599  Yuhua Chen,Subhash Kak,Lei Wang  http://arxiv.org/abs/0809.5087v1   \n",
       "\n",
       "     journal              comments primary_cat    all_cat  \\\n",
       "5599    None  19 pages, 16 figures       cs.NE  ['cs.NE']   \n",
       "\n",
       "                                               abstract  \n",
       "5599  Approaches to machine intelligence based on br...  "
      ]
     },
     "execution_count": 33,
     "metadata": {},
     "output_type": "execute_result"
    }
   ],
   "source": [
    "df_DL.sort_values(by='date').head(1)"
   ]
  },
  {
   "cell_type": "markdown",
   "metadata": {},
   "source": [
    "<hr style=\"border-width:2px;border-color:#75DFC1\">\n",
    "<h2 style = \"text-align:center\"> Clean data </h2> \n",
    "<hr style=\"border-width:2px;border-color:#75DFC1\">\n"
   ]
  },
  {
   "cell_type": "markdown",
   "metadata": {},
   "source": [
    "#### Missing values"
   ]
  },
  {
   "cell_type": "markdown",
   "metadata": {},
   "source": [
    "> It is frequent to have missing values. We will not directly use all the following methods here but it is good to know them.\n",
    "* <a href = \"https://pandas.pydata.org/pandas-docs/stable/generated/pandas.isnull.html\">**`isnull()`**</a> detects any missing values in an input table. It returns an output table with the input table dimensions. Output value (i, j) is either `True`, if input value (i,j) is missing or `False` otherwise.  \n",
    "To know whether **at least one** element is missing in the dataset, or not:\n",
    "```python\n",
    "  pd.isnull(dataset).any()\n",
    "```\n",
    "\n",
    ">* <a href =\"https://pandas.pydata.org/pandas-docs/stable/generated/pandas.DataFrame.fillna.html\">**fillna**</a> replaces missing values of a dataframe with specified value.\n",
    "\n",
    "> <span style=\"color:#09b038; text-decoration : underline\"> Example :</span><br>  \n",
    "```python\n",
    "  df_DL.fillna(0) # replace all missing values with 0\n",
    "```\n",
    "\n",
    ">*  <a href = \"http://pandas.pydata.org/pandas-docs/stable/generated/pandas.DataFrame.dropna.html\"> **dropna** </a> suppresses lines and columns with missing values.\n",
    "\n",
    "> <span style=\"color:#09b038; text-decoration : underline\"> Example :</span><br> \n",
    "```python\n",
    "  df_DL.dropna(how = 'any') # suppresses lines with at least one NA\n",
    "  df_DL.dropna(how = 'all') # suppresses completely empty lines \n",
    "  df_DL.dropna(axis = 1, how = 'all') # suppresses empty columns (by default axis=0)\n",
    "```\n",
    "\n",
    "> *   <a href = \"http://pandas.pydata.org/pandas-docs/stable/generated/pandas.DataFrame.dropna.html\"> **drop_duplicates** </a> suppresses duplicates."
   ]
  },
  {
   "cell_type": "markdown",
   "metadata": {},
   "source": [
    "> We saw that we likely have duplicates in our dataframes. (Likely due to the fact that my script fot querying the arXiv is not efficient :-/ )\n",
    "\n",
    "> A paper on the arXiv is identified by a unique ID. However, we know that also replacements exist, which are labeled by v1, v2, etc.  So we want to get rid of these as well\n",
    "\n",
    "> The function strip_id separates the arXiv id from the suppix v1, v2, etc and returns main ID only"
   ]
  },
  {
   "cell_type": "code",
   "execution_count": 34,
   "metadata": {},
   "outputs": [
    {
     "data": {
      "text/plain": [
       "'1809.02601'"
      ]
     },
     "execution_count": 34,
     "metadata": {},
     "output_type": "execute_result"
    }
   ],
   "source": [
    "def strip_id(my_id):\n",
    "    sep='v'\n",
    "    return my_id.split(sep, 1)[0]\n",
    "\n",
    "strip_id('1809.02601v4')"
   ]
  },
  {
   "cell_type": "markdown",
   "metadata": {},
   "source": [
    "> Excercise: \n",
    "    1 -  apply the funciton strip_id to ALL the columns of the dataframes to obtain the arXiv ID.\n",
    "    2 - find how many duplicates IDs there are\n",
    "    3 -  get rid of them\n"
   ]
  },
  {
   "cell_type": "code",
   "execution_count": 36,
   "metadata": {},
   "outputs": [],
   "source": [
    "# Solution 1\n",
    "\n",
    "for df in df_all:\n",
    "    df['ID'] = df.ID.apply(lambda x: strip_id(x))"
   ]
  },
  {
   "cell_type": "code",
   "execution_count": 37,
   "metadata": {},
   "outputs": [
    {
     "name": "stdout",
     "output_type": "stream",
     "text": [
      "1628\n",
      "19143\n",
      "1505\n"
     ]
    }
   ],
   "source": [
    "# Solution 2\n",
    "\n",
    "for df in df_all:\n",
    "    print(df.duplicated('ID').sum())"
   ]
  },
  {
   "cell_type": "code",
   "execution_count": 39,
   "metadata": {},
   "outputs": [
    {
     "name": "stdout",
     "output_type": "stream",
     "text": [
      "Machine Learning - N. of papers: 10009\n",
      "Neural Networks - N. of papers: 18901\n",
      "Deep Learning - N. of papers: 6211\n",
      "Total papers: 35121\n"
     ]
    }
   ],
   "source": [
    "# Solution 3\n",
    "\n",
    "for i,df in enumerate(df_all):\n",
    "    df_all[i] = df_all[i].drop_duplicates('ID')\n",
    "    print(df_names[i]+' - N. of papers: %s' %df_all[i].shape[0] )\n",
    "\n",
    "print('Total papers: %s' %np.sum([df.shape[0] for df in df_all]))\n"
   ]
  },
  {
   "cell_type": "markdown",
   "metadata": {},
   "source": [
    "#### Excercises: extract other features"
   ]
  },
  {
   "cell_type": "markdown",
   "metadata": {},
   "source": [
    "> <span style=\"color:#09b038; text-decoration : underline\"> Excercise :</span><br>  \n",
    "\n",
    "* We are interested in the publication year. The column **date** provides the date and time of publication. \n",
    "Extract the year and store it in a new column 'year'. This variable should be an integer. The format of the date is as follows:\n"
   ]
  },
  {
   "cell_type": "code",
   "execution_count": 49,
   "metadata": {},
   "outputs": [
    {
     "data": {
      "text/plain": [
       "'2016-09-19T11:34:24Z'"
      ]
     },
     "execution_count": 49,
     "metadata": {},
     "output_type": "execute_result"
    }
   ],
   "source": [
    "ex_date = df_NN['date'].iloc[1]\n",
    "ex_date"
   ]
  },
  {
   "cell_type": "markdown",
   "metadata": {},
   "source": [
    "> * Hint: define a function that isolates the year as done for the arxiv ID, then use the method .apply to apply it to the full dataframe\n",
    "* Bonus: do this in one line of code ! (hint: use the lambda function)"
   ]
  },
  {
   "cell_type": "code",
   "execution_count": null,
   "metadata": {},
   "outputs": [],
   "source": [
    "# Put your code here....\n",
    "\n",
    "\n"
   ]
  },
  {
   "cell_type": "code",
   "execution_count": 56,
   "metadata": {},
   "outputs": [
    {
     "name": "stderr",
     "output_type": "stream",
     "text": [
      "/Users/Michi/miniconda3/envs/snakes/lib/python3.7/site-packages/ipykernel_launcher.py:3: SettingWithCopyWarning: \n",
      "A value is trying to be set on a copy of a slice from a DataFrame.\n",
      "Try using .loc[row_indexer,col_indexer] = value instead\n",
      "\n",
      "See the caveats in the documentation: http://pandas.pydata.org/pandas-docs/stable/user_guide/indexing.html#returning-a-view-versus-a-copy\n",
      "  This is separate from the ipykernel package so we can avoid doing imports until\n"
     ]
    }
   ],
   "source": [
    "# Solution:\n",
    "for df in df_all:\n",
    "    df['year'] = df['date'].apply(lambda x: int(x.split('-')[0]))"
   ]
  },
  {
   "cell_type": "markdown",
   "metadata": {},
   "source": [
    "> <span style=\"color:#09b038; text-decoration : underline\"> Excercise :</span><br>  \n",
    "* The field 'primary cathegory' contains unfortunately the arXiv sub-category and not the mai one. This gives a lot of different cases, as we saw by checking the different cathegories where the term 'Deep Learning' appears. We want to simplify and reduce to the main cathegory, which is one of the following: Physics, maths, computer science, quantitative biology, quant. finance, statistics, electrical engineering and ssystem science, economics, computation and language\n",
    "\n",
    "* (Boring) Write a function map_column(cat) that takes as input a string givinf the subcathegory as in the field 'primary_cat', and returns a string with the main arXiv cathegory.\n",
    "* Apply the aboev function to the dataframes and store the result in a new column called 'arxiv_category'"
   ]
  },
  {
   "cell_type": "code",
   "execution_count": 51,
   "metadata": {},
   "outputs": [],
   "source": [
    "def map_column(cat):\n",
    "    \n",
    "    if 'ph' in cat or 'cond-mat' in cat or 'hep' in cat or 'nlin' in cat or 'nucl' in cat or 'gr-qc' in cat:\n",
    "        return 'phys'\n",
    "    elif 'cs.' in cat and not 'physics' in cat:\n",
    "        return 'cs'\n",
    "    elif 'math' in cat and not 'ph' in cat:\n",
    "        return 'math'\n",
    "    elif 'q-bio' in cat:\n",
    "        return 'q-bio'\n",
    "    elif 'q-fin' in cat:\n",
    "        return 'q-fin'\n",
    "    elif 'stat' in cat:\n",
    "        return 'stat'\n",
    "    elif 'eess' in cat:\n",
    "        return 'eess'\n",
    "    elif 'econ' in cat:\n",
    "        return 'econ'\n",
    "    elif 'cmp-lg' in cat:\n",
    "        return 'cmp-lg'\n",
    "    else:\n",
    "        return 'None'\n"
   ]
  },
  {
   "cell_type": "code",
   "execution_count": 52,
   "metadata": {},
   "outputs": [
    {
     "name": "stderr",
     "output_type": "stream",
     "text": [
      "/Users/Michi/miniconda3/envs/snakes/lib/python3.7/site-packages/ipykernel_launcher.py:2: SettingWithCopyWarning: \n",
      "A value is trying to be set on a copy of a slice from a DataFrame.\n",
      "Try using .loc[row_indexer,col_indexer] = value instead\n",
      "\n",
      "See the caveats in the documentation: http://pandas.pydata.org/pandas-docs/stable/user_guide/indexing.html#returning-a-view-versus-a-copy\n",
      "  \n"
     ]
    }
   ],
   "source": [
    "for df in df_all:\n",
    "    df['arxiv_category'] = df['primary_cat'].apply(lambda x: map_column(x))"
   ]
  },
  {
   "cell_type": "code",
   "execution_count": 58,
   "metadata": {},
   "outputs": [
    {
     "data": {
      "text/html": [
       "<div>\n",
       "<style scoped>\n",
       "    .dataframe tbody tr th:only-of-type {\n",
       "        vertical-align: middle;\n",
       "    }\n",
       "\n",
       "    .dataframe tbody tr th {\n",
       "        vertical-align: top;\n",
       "    }\n",
       "\n",
       "    .dataframe thead th {\n",
       "        text-align: right;\n",
       "    }\n",
       "</style>\n",
       "<table border=\"1\" class=\"dataframe\">\n",
       "  <thead>\n",
       "    <tr style=\"text-align: right;\">\n",
       "      <th></th>\n",
       "      <th>ID</th>\n",
       "      <th>date</th>\n",
       "      <th>title</th>\n",
       "      <th>author</th>\n",
       "      <th>link</th>\n",
       "      <th>journal</th>\n",
       "      <th>comments</th>\n",
       "      <th>primary_cat</th>\n",
       "      <th>all_cat</th>\n",
       "      <th>abstract</th>\n",
       "      <th>arxiv_category</th>\n",
       "      <th>year</th>\n",
       "    </tr>\n",
       "  </thead>\n",
       "  <tbody>\n",
       "    <tr>\n",
       "      <td>0</td>\n",
       "      <td>1609.05695</td>\n",
       "      <td>2016-09-19T12:43:32Z</td>\n",
       "      <td>A scalable convolutional neural network for ta...</td>\n",
       "      <td>Mengnan Shi,Fei Qin,Qixiang Ye,Zhenjun Han,Jia...</td>\n",
       "      <td>http://arxiv.org/abs/1609.05695v2</td>\n",
       "      <td>None</td>\n",
       "      <td>None</td>\n",
       "      <td>cs.CV</td>\n",
       "      <td>['cs.CV']</td>\n",
       "      <td>In this paper, we explore the redundancy in co...</td>\n",
       "      <td>cs</td>\n",
       "      <td>2016</td>\n",
       "    </tr>\n",
       "    <tr>\n",
       "      <td>1</td>\n",
       "      <td>1609.05672</td>\n",
       "      <td>2016-09-19T11:34:24Z</td>\n",
       "      <td>Multi-Residual Networks: Improving the Speed a...</td>\n",
       "      <td>Masoud Abdi,Saeid Nahavandi</td>\n",
       "      <td>http://arxiv.org/abs/1609.05672v4</td>\n",
       "      <td>None</td>\n",
       "      <td>This work has been submitted to the IEEE for p...</td>\n",
       "      <td>cs.CV</td>\n",
       "      <td>['cs.CV']</td>\n",
       "      <td>In this article, we take one step toward under...</td>\n",
       "      <td>cs</td>\n",
       "      <td>2016</td>\n",
       "    </tr>\n",
       "  </tbody>\n",
       "</table>\n",
       "</div>"
      ],
      "text/plain": [
       "           ID                  date  \\\n",
       "0  1609.05695  2016-09-19T12:43:32Z   \n",
       "1  1609.05672  2016-09-19T11:34:24Z   \n",
       "\n",
       "                                               title  \\\n",
       "0  A scalable convolutional neural network for ta...   \n",
       "1  Multi-Residual Networks: Improving the Speed a...   \n",
       "\n",
       "                                              author  \\\n",
       "0  Mengnan Shi,Fei Qin,Qixiang Ye,Zhenjun Han,Jia...   \n",
       "1                        Masoud Abdi,Saeid Nahavandi   \n",
       "\n",
       "                                link journal  \\\n",
       "0  http://arxiv.org/abs/1609.05695v2    None   \n",
       "1  http://arxiv.org/abs/1609.05672v4    None   \n",
       "\n",
       "                                            comments primary_cat    all_cat  \\\n",
       "0                                               None       cs.CV  ['cs.CV']   \n",
       "1  This work has been submitted to the IEEE for p...       cs.CV  ['cs.CV']   \n",
       "\n",
       "                                            abstract arxiv_category  year  \n",
       "0  In this paper, we explore the redundancy in co...             cs  2016  \n",
       "1  In this article, we take one step toward under...             cs  2016  "
      ]
     },
     "execution_count": 58,
     "metadata": {},
     "output_type": "execute_result"
    }
   ],
   "source": [
    "\n",
    "df_all[1].head(2)"
   ]
  },
  {
   "cell_type": "markdown",
   "metadata": {},
   "source": [
    "#### Mapping"
   ]
  },
  {
   "cell_type": "markdown",
   "metadata": {},
   "source": [
    "\n",
    "* Among all the cathegories, we are interested in Physics, Computer Science, Statistics. The others may be grouped together.\n",
    "To do this, we can use the method  <a href =\"https://pandas.pydata.org/pandas-docs/stable/reference/api/pandas.Series.map.html\">**map**</a>\n"
   ]
  },
  {
   "cell_type": "code",
   "execution_count": 60,
   "metadata": {},
   "outputs": [
    {
     "name": "stderr",
     "output_type": "stream",
     "text": [
      "/Users/Michi/miniconda3/envs/snakes/lib/python3.7/site-packages/ipykernel_launcher.py:6: SettingWithCopyWarning: \n",
      "A value is trying to be set on a copy of a slice from a DataFrame.\n",
      "Try using .loc[row_indexer,col_indexer] = value instead\n",
      "\n",
      "See the caveats in the documentation: http://pandas.pydata.org/pandas-docs/stable/user_guide/indexing.html#returning-a-view-versus-a-copy\n",
      "  \n"
     ]
    }
   ],
   "source": [
    "cat_map = {'phys':'Physics', 'cs':'Computer Science', 'stat': 'Statistics',\n",
    "          'math': 'Other', 'q-bio':'Other', 'q-fin':'Other',\n",
    "           'eess': 'Other', 'econ':'Other', 'cmp-lg': 'Other','None':'Other'}\n",
    "\n",
    "for df in df_all:\n",
    "    df['arxiv_category_grouped'] = df['arxiv_category'].map(cat_map)\n"
   ]
  },
  {
   "cell_type": "code",
   "execution_count": 61,
   "metadata": {},
   "outputs": [
    {
     "data": {
      "text/html": [
       "<div>\n",
       "<style scoped>\n",
       "    .dataframe tbody tr th:only-of-type {\n",
       "        vertical-align: middle;\n",
       "    }\n",
       "\n",
       "    .dataframe tbody tr th {\n",
       "        vertical-align: top;\n",
       "    }\n",
       "\n",
       "    .dataframe thead th {\n",
       "        text-align: right;\n",
       "    }\n",
       "</style>\n",
       "<table border=\"1\" class=\"dataframe\">\n",
       "  <thead>\n",
       "    <tr style=\"text-align: right;\">\n",
       "      <th></th>\n",
       "      <th>ID</th>\n",
       "      <th>date</th>\n",
       "      <th>title</th>\n",
       "      <th>author</th>\n",
       "      <th>link</th>\n",
       "      <th>journal</th>\n",
       "      <th>comments</th>\n",
       "      <th>primary_cat</th>\n",
       "      <th>all_cat</th>\n",
       "      <th>abstract</th>\n",
       "      <th>arxiv_category</th>\n",
       "      <th>year</th>\n",
       "      <th>arxiv_category_grouped</th>\n",
       "    </tr>\n",
       "  </thead>\n",
       "  <tbody>\n",
       "    <tr>\n",
       "      <td>0</td>\n",
       "      <td>1812.06061</td>\n",
       "      <td>2018-12-14T18:20:39Z</td>\n",
       "      <td>Automatic quantification of the LV function an...</td>\n",
       "      <td>Ariel H. Curiale,Flavio D. Colavecchia,German ...</td>\n",
       "      <td>http://arxiv.org/abs/1812.06061v1</td>\n",
       "      <td>None</td>\n",
       "      <td>Accepted in Computer Methods and Programs in B...</td>\n",
       "      <td>cs.CV</td>\n",
       "      <td>['cs.CV']</td>\n",
       "      <td>Objective: This paper proposes a novel approac...</td>\n",
       "      <td>cs</td>\n",
       "      <td>2018</td>\n",
       "      <td>Computer Science</td>\n",
       "    </tr>\n",
       "    <tr>\n",
       "      <td>1</td>\n",
       "      <td>1812.06023</td>\n",
       "      <td>2018-12-14T16:58:02Z</td>\n",
       "      <td>Advanced Super-Resolution using Lossless Pooli...</td>\n",
       "      <td>Farzad Toutounchi,Ebroul Izquierdo</td>\n",
       "      <td>http://arxiv.org/abs/1812.06023v1</td>\n",
       "      <td>None</td>\n",
       "      <td>Accepted paper: 2019 IEEE Winter Conference on...</td>\n",
       "      <td>cs.CV</td>\n",
       "      <td>['cs.CV']</td>\n",
       "      <td>In this paper, we present a novel deep learnin...</td>\n",
       "      <td>cs</td>\n",
       "      <td>2018</td>\n",
       "      <td>Computer Science</td>\n",
       "    </tr>\n",
       "  </tbody>\n",
       "</table>\n",
       "</div>"
      ],
      "text/plain": [
       "           ID                  date  \\\n",
       "0  1812.06061  2018-12-14T18:20:39Z   \n",
       "1  1812.06023  2018-12-14T16:58:02Z   \n",
       "\n",
       "                                               title  \\\n",
       "0  Automatic quantification of the LV function an...   \n",
       "1  Advanced Super-Resolution using Lossless Pooli...   \n",
       "\n",
       "                                              author  \\\n",
       "0  Ariel H. Curiale,Flavio D. Colavecchia,German ...   \n",
       "1                 Farzad Toutounchi,Ebroul Izquierdo   \n",
       "\n",
       "                                link journal  \\\n",
       "0  http://arxiv.org/abs/1812.06061v1    None   \n",
       "1  http://arxiv.org/abs/1812.06023v1    None   \n",
       "\n",
       "                                            comments primary_cat    all_cat  \\\n",
       "0  Accepted in Computer Methods and Programs in B...       cs.CV  ['cs.CV']   \n",
       "1  Accepted paper: 2019 IEEE Winter Conference on...       cs.CV  ['cs.CV']   \n",
       "\n",
       "                                            abstract arxiv_category  year  \\\n",
       "0  Objective: This paper proposes a novel approac...             cs  2018   \n",
       "1  In this paper, we present a novel deep learnin...             cs  2018   \n",
       "\n",
       "  arxiv_category_grouped  \n",
       "0       Computer Science  \n",
       "1       Computer Science  "
      ]
     },
     "execution_count": 61,
     "metadata": {},
     "output_type": "execute_result"
    }
   ],
   "source": [
    "df_all[2].head(2)"
   ]
  },
  {
   "cell_type": "markdown",
   "metadata": {},
   "source": [
    "<hr style=\"border-width:2px;border-color:#75DFC1\">\n",
    "<h2 style = \"text-align:center\"> Filter and group data </h2> \n",
    "<hr style=\"border-width:2px;border-color:#75DFC1\">"
   ]
  },
  {
   "cell_type": "markdown",
   "metadata": {},
   "source": [
    "In this section we want to count number of papers with Machine Learning, Deep Learning, or Neural Networks in title or abstract in the last 10 years. To do so, we have to group and filter the results by year. \n",
    "\n",
    "At the end, we will reproduce (up to normalization) Figure 1 in the paper. \n",
    "\n",
    "Let's start by extracting a list of (sorted) years from our data"
   ]
  },
  {
   "cell_type": "code",
   "execution_count": 63,
   "metadata": {},
   "outputs": [
    {
     "data": {
      "text/plain": [
       "array([2005, 2006, 2007, 2008, 2009, 2010, 2011, 2012, 2013, 2014, 2015,\n",
       "       2016, 2017, 2018])"
      ]
     },
     "execution_count": 63,
     "metadata": {},
     "output_type": "execute_result"
    }
   ],
   "source": [
    "yrs = np.sort(np.array([int(y) for y in np.squeeze(df_all[1][df_all[1]['year']>=2005]['year'].unique()[::-1])]))\n",
    "yrs"
   ]
  },
  {
   "cell_type": "markdown",
   "metadata": {},
   "source": [
    "#### Filtering\n",
    "\n",
    "\n",
    "> Filtering consists in selecting a subset of rows in the dataframe, based on some criteria.  \n",
    "To filter on several conditions, you can use several logical operators:  & (and), | (or), ~ (not). <br>\n",
    "\n",
    "<span style=\"color:#09b038; text-decoration : underline\"> Example : </span><br> \n",
    "```python\n",
    "subset = df_all[1][df_all[1]['year']<=2010 & df_all[1]['year']>=2008]\n",
    "# Filtering 'Neural Networks' papers between 2008 and 2010\n",
    "```"
   ]
  },
  {
   "cell_type": "markdown",
   "metadata": {},
   "source": [
    "#### Group"
   ]
  },
  {
   "cell_type": "markdown",
   "metadata": {},
   "source": [
    "We want to know how many papers were published each year. We can use the method <a href =\"https://pandas.pydata.org/pandas-docs/stable/reference/api/pandas.DataFrame.groupby.html?highlight=groupby#pandas.DataFrame.groupby\">**groupby**</a> which allows to group a dataframe according to values of a aprticular column, and then apply any other method to that.\n",
    "\n",
    "In our case, we can group by 'year' and then apply the method  <a href =\"https://pandas.pydata.org/pandas-docs/stable/reference/api/pandas.core.groupby.DataFrameGroupBy.count.html?highlight=count#pandas.core.groupby.DataFrameGroupBy.count\">**count**</a> to count papers per year.\n",
    "\n",
    "<span style=\"color:#09b038; text-decoration : underline\"> Example : </span><br>\n",
    "count  'Deep learning' papers per year starting from 2005"
   ]
  },
  {
   "cell_type": "code",
   "execution_count": 73,
   "metadata": {},
   "outputs": [
    {
     "data": {
      "text/plain": [
       "year\n",
       "2008       1\n",
       "2010       1\n",
       "2011       3\n",
       "2012      10\n",
       "2013      49\n",
       "2014      92\n",
       "2015     310\n",
       "2016     688\n",
       "2017    1767\n",
       "2018    3290\n",
       "Name: ID, dtype: int64"
      ]
     },
     "execution_count": 73,
     "metadata": {},
     "output_type": "execute_result"
    }
   ],
   "source": [
    "yr_count = df_all[2][df_all[2]['year']>=2005].groupby(['year']).count().iloc[:, 0]\n",
    "yr_count"
   ]
  },
  {
   "cell_type": "markdown",
   "metadata": {},
   "source": [
    "<span style=\"color:#09b038; text-decoration : underline\"> Exercise : </span><br>\n",
    "\n",
    "! We don't have any papers before 2008, and none in 2009 as well. To produce a meaningful plot, we hav to **pad** this array inserting the missing values"
   ]
  },
  {
   "cell_type": "code",
   "execution_count": 75,
   "metadata": {},
   "outputs": [
    {
     "data": {
      "text/plain": [
       "2005       0\n",
       "2006       0\n",
       "2007       0\n",
       "2008       1\n",
       "2009       0\n",
       "2010       1\n",
       "2011       3\n",
       "2012      10\n",
       "2013      49\n",
       "2014      92\n",
       "2015     310\n",
       "2016     688\n",
       "2017    1767\n",
       "2018    3290\n",
       "dtype: int64"
      ]
     },
     "execution_count": 75,
     "metadata": {},
     "output_type": "execute_result"
    }
   ],
   "source": [
    "def pad_count(yr_count, yrs):\n",
    "    for yr in yrs:\n",
    "        if yr not in yr_count.keys(): \n",
    "            yr_count = yr_count.append(pd.Series([0], index=[yr]))\n",
    "    return yr_count.sort_index( ascending=True)\n",
    "\n",
    "pad_count(yr_count, yrs)"
   ]
  },
  {
   "cell_type": "code",
   "execution_count": 81,
   "metadata": {},
   "outputs": [
    {
     "data": {
      "image/png": "[encoded data removed]",
      "text/plain": [
       "<Figure size 1080x504 with 1 Axes>"
      ]
     },
     "metadata": {
      "needs_background": "light"
     },
     "output_type": "display_data"
    }
   ],
   "source": [
    "###### LINE STYLES AND COLORS\n",
    "\n",
    "color_list =['firebrick', 'royalblue', 'forestgreen','darkorange', 'blueviolet']\n",
    "l_styles = ['-','--', '-.', '-..']\n",
    "styles = ['-'+c for c in '+']+ ['--'+c for c in 'o']+\\\n",
    "['-.'+c for c in '^']+['-'+c for c in 's']+[':'+c for c in 'p']\n",
    "\n",
    "######\n",
    "\n",
    "min_yr=2005\n",
    "\n",
    "fig_all, ax_all = plt.subplots(figsize=(15,7))\n",
    "\n",
    "papers_percentage = []\n",
    "\n",
    "for i,df in enumerate(df_all):\n",
    "    arr = df[df['year']>=min_yr].groupby(['year']).count().iloc[:, 0]\n",
    "    arr = pad_count(arr, yrs).values\n",
    "    papers_percentage.append(arr)\n",
    "\n",
    "    df_plot = pd.DataFrame(\n",
    "              papers_percentage[i], index=yrs, columns=[df_names[i]]).sort_index( ascending=True)\n",
    "    df_plot.plot( ax=ax_all, legend=False,\n",
    "                                            label=df_names[i],\n",
    "                                           style = styles[i], color=color_list[i],\n",
    "                                                         linewidth=3, markersize=10)\n",
    "ax_all.legend(loc=0, prop={'size': 17});\n",
    "ax_all.set_title('Fig.1 - Total number of papers on the Arxiv with \"Machine Learning\", \\n \"Deep Learning\" or \"Neural Networks\" in title or abstract',\\\n",
    "                fontsize=18);\n",
    "ax_all.set_xlabel('Year', fontsize=24);\n",
    "ax_all.set_ylabel('N. of papers', fontsize=24);\n",
    "ax_all.tick_params(labelsize=20)\n",
    "ax_all.set_xlim([2005,2018]);"
   ]
  },
  {
   "cell_type": "code",
   "execution_count": null,
   "metadata": {
    "collapsed": true
   },
   "outputs": [],
   "source": [
    "\n",
    "If time:\n",
    "Keep only categories that had in increment of more than 5 in the last 10 years and that have at least 10 papers in 2018"
   ]
  },
  {
   "cell_type": "markdown",
   "metadata": {},
   "source": [
    "<hr style=\"border-width:2px;border-color:#75DFC1\">\n",
    "<h2 style = \"text-align:center\"> Excercises </h2> \n",
    "<hr style=\"border-width:2px;border-color:#75DFC1\">"
   ]
  },
  {
   "cell_type": "markdown",
   "metadata": {},
   "source": [
    "<span style=\"color:#09b038; text-decoration : underline\"> Exercise : </span><br>\n",
    "* Reproduce Figure 2 in the paper (with total number of papers on the y axis). This is a plot of number of papers with either 'Machine Learning', 'Neural Networks' or 'Deep Learning' in title or abstract vs year, divided by the following arxiv cathegories: Physics, Computer Science, Statistics, Other\n",
    "> Hints and steps:\n",
    "* Now we are not interested any more in dividing the dataframes by keyword, hence we can concatenate them together. \n",
    "Create a datadrame called 'df_full' which is the concatenation of the three dataframes in df_all. Use the method \n",
    "<a href =\"https://pandas.pydata.org/pandas-docs/stable/reference/api/pandas.concat.html?highlight=concat#pandas.concat\">**concat**</a>. Verify that it has shape (35121, 13)\n",
    "* To simplify your life, we have already created a column that labels the papers by one of the following cathegories: Physics, Computer Science, Statistics, Other. Remember? (see  section Mapping). This column is called 'arxiv_category_grouped'. Create a dataframe called *df_grouped* that groups papers published after 2005 by the values of 'year' and 'arxiv_category_grouped'. (Hint: adapt what we did to create 'yr_count'. Append the method .unstack() to the result to visualise better). Check that there are no missing values and if so fill them with zeros\n",
    "* Create a dataframe called 'df_plot_2' that contains the number of papers for each cathegory in Physics, Computer Science, Statistics, Other, and has the year as an index (if you are unsure about indexing, consult the pandas dataframe docuentation and check index). Set the column names to ['Computer Science', 'Other', 'Statistics', 'Physics']\n",
    "* plot df_plot_2 with the same style as Figure 1 above\n"
   ]
  },
  {
   "cell_type": "markdown",
   "metadata": {},
   "source": [
    "<span style=\"color:#09b038; text-decoration : underline\"> Solution : </span><br>"
   ]
  },
  {
   "cell_type": "code",
   "execution_count": 82,
   "metadata": {},
   "outputs": [],
   "source": [
    "df_full = pd.concat(df_all, axis=0)\n",
    "df_grouped = df_full[df_full['year']>=2005].groupby(['year','arxiv_category_grouped']).count()['ID'].\\\n",
    "                                                    unstack().fillna(0)\n"
   ]
  },
  {
   "cell_type": "code",
   "execution_count": 84,
   "metadata": {},
   "outputs": [
    {
     "data": {
      "text/html": [
       "<div>\n",
       "<style scoped>\n",
       "    .dataframe tbody tr th:only-of-type {\n",
       "        vertical-align: middle;\n",
       "    }\n",
       "\n",
       "    .dataframe tbody tr th {\n",
       "        vertical-align: top;\n",
       "    }\n",
       "\n",
       "    .dataframe thead th {\n",
       "        text-align: right;\n",
       "    }\n",
       "</style>\n",
       "<table border=\"1\" class=\"dataframe\">\n",
       "  <thead>\n",
       "    <tr style=\"text-align: right;\">\n",
       "      <th></th>\n",
       "      <th>Computer Science</th>\n",
       "      <th>Other</th>\n",
       "      <th>Statistics</th>\n",
       "      <th>Physics</th>\n",
       "    </tr>\n",
       "  </thead>\n",
       "  <tbody>\n",
       "    <tr>\n",
       "      <td>2005</td>\n",
       "      <td>39.0</td>\n",
       "      <td>22.0</td>\n",
       "      <td>0.0</td>\n",
       "      <td>53.0</td>\n",
       "    </tr>\n",
       "    <tr>\n",
       "      <td>2006</td>\n",
       "      <td>27.0</td>\n",
       "      <td>24.0</td>\n",
       "      <td>0.0</td>\n",
       "      <td>51.0</td>\n",
       "    </tr>\n",
       "    <tr>\n",
       "      <td>2007</td>\n",
       "      <td>60.0</td>\n",
       "      <td>32.0</td>\n",
       "      <td>9.0</td>\n",
       "      <td>78.0</td>\n",
       "    </tr>\n",
       "    <tr>\n",
       "      <td>2008</td>\n",
       "      <td>51.0</td>\n",
       "      <td>23.0</td>\n",
       "      <td>16.0</td>\n",
       "      <td>74.0</td>\n",
       "    </tr>\n",
       "    <tr>\n",
       "      <td>2009</td>\n",
       "      <td>83.0</td>\n",
       "      <td>23.0</td>\n",
       "      <td>19.0</td>\n",
       "      <td>80.0</td>\n",
       "    </tr>\n",
       "    <tr>\n",
       "      <td>2010</td>\n",
       "      <td>164.0</td>\n",
       "      <td>31.0</td>\n",
       "      <td>18.0</td>\n",
       "      <td>73.0</td>\n",
       "    </tr>\n",
       "    <tr>\n",
       "      <td>2011</td>\n",
       "      <td>174.0</td>\n",
       "      <td>42.0</td>\n",
       "      <td>30.0</td>\n",
       "      <td>86.0</td>\n",
       "    </tr>\n",
       "    <tr>\n",
       "      <td>2012</td>\n",
       "      <td>326.0</td>\n",
       "      <td>57.0</td>\n",
       "      <td>48.0</td>\n",
       "      <td>94.0</td>\n",
       "    </tr>\n",
       "    <tr>\n",
       "      <td>2013</td>\n",
       "      <td>501.0</td>\n",
       "      <td>89.0</td>\n",
       "      <td>72.0</td>\n",
       "      <td>105.0</td>\n",
       "    </tr>\n",
       "    <tr>\n",
       "      <td>2014</td>\n",
       "      <td>761.0</td>\n",
       "      <td>119.0</td>\n",
       "      <td>145.0</td>\n",
       "      <td>164.0</td>\n",
       "    </tr>\n",
       "    <tr>\n",
       "      <td>2015</td>\n",
       "      <td>1831.0</td>\n",
       "      <td>141.0</td>\n",
       "      <td>223.0</td>\n",
       "      <td>201.0</td>\n",
       "    </tr>\n",
       "    <tr>\n",
       "      <td>2016</td>\n",
       "      <td>3594.0</td>\n",
       "      <td>232.0</td>\n",
       "      <td>402.0</td>\n",
       "      <td>369.0</td>\n",
       "    </tr>\n",
       "    <tr>\n",
       "      <td>2017</td>\n",
       "      <td>6767.0</td>\n",
       "      <td>467.0</td>\n",
       "      <td>822.0</td>\n",
       "      <td>702.0</td>\n",
       "    </tr>\n",
       "    <tr>\n",
       "      <td>2018</td>\n",
       "      <td>11191.0</td>\n",
       "      <td>1109.0</td>\n",
       "      <td>1052.0</td>\n",
       "      <td>1434.0</td>\n",
       "    </tr>\n",
       "  </tbody>\n",
       "</table>\n",
       "</div>"
      ],
      "text/plain": [
       "      Computer Science   Other  Statistics  Physics\n",
       "2005              39.0    22.0         0.0     53.0\n",
       "2006              27.0    24.0         0.0     51.0\n",
       "2007              60.0    32.0         9.0     78.0\n",
       "2008              51.0    23.0        16.0     74.0\n",
       "2009              83.0    23.0        19.0     80.0\n",
       "2010             164.0    31.0        18.0     73.0\n",
       "2011             174.0    42.0        30.0     86.0\n",
       "2012             326.0    57.0        48.0     94.0\n",
       "2013             501.0    89.0        72.0    105.0\n",
       "2014             761.0   119.0       145.0    164.0\n",
       "2015            1831.0   141.0       223.0    201.0\n",
       "2016            3594.0   232.0       402.0    369.0\n",
       "2017            6767.0   467.0       822.0    702.0\n",
       "2018           11191.0  1109.0      1052.0   1434.0"
      ]
     },
     "execution_count": 84,
     "metadata": {},
     "output_type": "execute_result"
    }
   ],
   "source": [
    "cs_vals = df_grouped['Computer Science'].values\n",
    "ph_vals = df_grouped['Physics'].values\n",
    "stat_vals=df_grouped['Statistics'].values\n",
    "other_vals=df_grouped['Other'].values\n",
    "\n",
    "df_plot_2 = pd.DataFrame([ cs_vals,other_vals, stat_vals, ph_vals]).fillna(0).transpose()\n",
    "df_plot_2.index=yrs\n",
    "df_plot_2.columns=['Computer Science', 'Other', 'Statistics', 'Physics']\n",
    "df_plot_2"
   ]
  },
  {
   "cell_type": "code",
   "execution_count": 88,
   "metadata": {},
   "outputs": [
    {
     "data": {
      "image/png": "[encoded data removed]",
      "text/plain": [
       "<Figure size 1080x504 with 1 Axes>"
      ]
     },
     "metadata": {
      "needs_background": "light"
     },
     "output_type": "display_data"
    }
   ],
   "source": [
    "fig_all_cat, ax_all_cat = plt.subplots(figsize=(15,7))\n",
    "\n",
    "df_plot_2.\\\n",
    "            plot(logy=True, ax=ax_all_cat,\n",
    "            #label=df_names[i],\n",
    "            style = styles, color=color_list,\n",
    "            linewidth=3, markersize=10\n",
    "            )\n",
    "ax_all_cat.legend(loc=0, prop={'size': 17});\n",
    "\n",
    "ax_all_cat.set_xlabel('Year', fontsize=24);\n",
    "ax_all_cat.set_ylabel('Number of papers', fontsize=24);\n",
    "ax_all_cat.set_xlim([2007,2018]);\n",
    "ax_all_cat.tick_params(labelsize=20)\n",
    "ax_all_cat.set_title('Fig.2 - Total number of papers on the Arxiv with \"Machine Learning\", \\n \"Deep Learning\" or \"Neural Networks\" in title or abstract, divided by arXiv cathegory');\n"
   ]
  },
  {
   "cell_type": "markdown",
   "metadata": {},
   "source": [
    "<span style=\"color:#09b038; text-decoration : underline\"> Exercise : </span><br>\n",
    "* Reproduce Figure 3 in the paper (with total number of papers on the y axis). \n",
    "This is a plot of number of papers with either 'Machine Learning', 'Neural Networks' or 'Deep Learning' in title or abstract vs year in papers in physics only, divided by the following sub-cathegories: 'astro-ph', 'cond-mat', 'quant-ph','hep-th', 'Other'\n",
    "\n",
    "* Solution: check the notebook at "
   ]
  },
  {
   "cell_type": "markdown",
   "metadata": {},
   "source": [
    "<span style=\"color:#09b038; text-decoration : underline\"> Exercise : </span><br>\n",
    "* Do the same but only for sub-cathegories in astro-ph\n"
   ]
  },
  {
   "cell_type": "markdown",
   "metadata": {},
   "source": [
    "<span style=\"color:#09b038; text-decoration : underline\"> Exercise : </span><br>\n",
    "* How many papers  with either 'Machine Learning', 'Neural Networks' or 'Deep Learning' in title or abstract has ever been published in Nature? "
   ]
  },
  {
   "cell_type": "code",
   "execution_count": 95,
   "metadata": {},
   "outputs": [
    {
     "data": {
      "text/plain": [
       "42"
      ]
     },
     "execution_count": 95,
     "metadata": {},
     "output_type": "execute_result"
    }
   ],
   "source": [
    "df_full[df_full.journal.apply(lambda x: \"Nature\" in x)==True].shape[0]"
   ]
  },
  {
   "cell_type": "markdown",
   "metadata": {},
   "source": [
    "* How many papers  with either 'Machine Learning', 'Neural Networks' or 'Deep Learning' in title or abstract has ever been published in PRL? "
   ]
  },
  {
   "cell_type": "code",
   "execution_count": 111,
   "metadata": {},
   "outputs": [
    {
     "data": {
      "text/plain": [
       "(77, 13)"
      ]
     },
     "execution_count": 111,
     "metadata": {},
     "output_type": "execute_result"
    }
   ],
   "source": [
    "df_full[df_full.journal.apply(lambda x: \"Phys. Rev. Lett.\" in x)==True].shape"
   ]
  },
  {
   "cell_type": "markdown",
   "metadata": {},
   "source": [
    "<span style=\"color:#09b038; text-decoration : underline\"> Exercise : </span><br>\n",
    "* Find if anyone in this room has ever published a ML-related paper. (If so, ask them to present it)"
   ]
  },
  {
   "cell_type": "code",
   "execution_count": 105,
   "metadata": {},
   "outputs": [
    {
     "data": {
      "text/html": [
       "<div>\n",
       "<style scoped>\n",
       "    .dataframe tbody tr th:only-of-type {\n",
       "        vertical-align: middle;\n",
       "    }\n",
       "\n",
       "    .dataframe tbody tr th {\n",
       "        vertical-align: top;\n",
       "    }\n",
       "\n",
       "    .dataframe thead th {\n",
       "        text-align: right;\n",
       "    }\n",
       "</style>\n",
       "<table border=\"1\" class=\"dataframe\">\n",
       "  <thead>\n",
       "    <tr style=\"text-align: right;\">\n",
       "      <th></th>\n",
       "      <th>ID</th>\n",
       "      <th>date</th>\n",
       "      <th>title</th>\n",
       "      <th>author</th>\n",
       "      <th>link</th>\n",
       "      <th>journal</th>\n",
       "      <th>comments</th>\n",
       "      <th>primary_cat</th>\n",
       "      <th>all_cat</th>\n",
       "      <th>abstract</th>\n",
       "      <th>arxiv_category</th>\n",
       "      <th>year</th>\n",
       "      <th>arxiv_category_grouped</th>\n",
       "    </tr>\n",
       "  </thead>\n",
       "  <tbody>\n",
       "  </tbody>\n",
       "</table>\n",
       "</div>"
      ],
      "text/plain": [
       "Empty DataFrame\n",
       "Columns: [ID, date, title, author, link, journal, comments, primary_cat, all_cat, abstract, arxiv_category, year, arxiv_category_grouped]\n",
       "Index: []"
      ]
     },
     "execution_count": 105,
     "metadata": {},
     "output_type": "execute_result"
    }
   ],
   "source": [
    "df_full[df_full.author.apply(lambda x: \"Bonvin\" in x)==True]"
   ]
  },
  {
   "cell_type": "code",
   "execution_count": 106,
   "metadata": {},
   "outputs": [
    {
     "data": {
      "text/html": [
       "<div>\n",
       "<style scoped>\n",
       "    .dataframe tbody tr th:only-of-type {\n",
       "        vertical-align: middle;\n",
       "    }\n",
       "\n",
       "    .dataframe tbody tr th {\n",
       "        vertical-align: top;\n",
       "    }\n",
       "\n",
       "    .dataframe thead th {\n",
       "        text-align: right;\n",
       "    }\n",
       "</style>\n",
       "<table border=\"1\" class=\"dataframe\">\n",
       "  <thead>\n",
       "    <tr style=\"text-align: right;\">\n",
       "      <th></th>\n",
       "      <th>ID</th>\n",
       "      <th>date</th>\n",
       "      <th>title</th>\n",
       "      <th>author</th>\n",
       "      <th>link</th>\n",
       "      <th>journal</th>\n",
       "      <th>comments</th>\n",
       "      <th>primary_cat</th>\n",
       "      <th>all_cat</th>\n",
       "      <th>abstract</th>\n",
       "      <th>arxiv_category</th>\n",
       "      <th>year</th>\n",
       "      <th>arxiv_category_grouped</th>\n",
       "    </tr>\n",
       "  </thead>\n",
       "  <tbody>\n",
       "  </tbody>\n",
       "</table>\n",
       "</div>"
      ],
      "text/plain": [
       "Empty DataFrame\n",
       "Columns: [ID, date, title, author, link, journal, comments, primary_cat, all_cat, abstract, arxiv_category, year, arxiv_category_grouped]\n",
       "Index: []"
      ]
     },
     "execution_count": 106,
     "metadata": {},
     "output_type": "execute_result"
    }
   ],
   "source": [
    "df_full[df_full.author.apply(lambda x: \"Lombriser\" in x)==True]"
   ]
  },
  {
   "cell_type": "code",
   "execution_count": 104,
   "metadata": {},
   "outputs": [
    {
     "data": {
      "text/html": [
       "<div>\n",
       "<style scoped>\n",
       "    .dataframe tbody tr th:only-of-type {\n",
       "        vertical-align: middle;\n",
       "    }\n",
       "\n",
       "    .dataframe tbody tr th {\n",
       "        vertical-align: top;\n",
       "    }\n",
       "\n",
       "    .dataframe thead th {\n",
       "        text-align: right;\n",
       "    }\n",
       "</style>\n",
       "<table border=\"1\" class=\"dataframe\">\n",
       "  <thead>\n",
       "    <tr style=\"text-align: right;\">\n",
       "      <th></th>\n",
       "      <th>ID</th>\n",
       "      <th>date</th>\n",
       "      <th>title</th>\n",
       "      <th>author</th>\n",
       "      <th>link</th>\n",
       "      <th>journal</th>\n",
       "      <th>comments</th>\n",
       "      <th>primary_cat</th>\n",
       "      <th>all_cat</th>\n",
       "      <th>abstract</th>\n",
       "      <th>arxiv_category</th>\n",
       "      <th>year</th>\n",
       "      <th>arxiv_category_grouped</th>\n",
       "    </tr>\n",
       "  </thead>\n",
       "  <tbody>\n",
       "  </tbody>\n",
       "</table>\n",
       "</div>"
      ],
      "text/plain": [
       "Empty DataFrame\n",
       "Columns: [ID, date, title, author, link, journal, comments, primary_cat, all_cat, abstract, arxiv_category, year, arxiv_category_grouped]\n",
       "Index: []"
      ]
     },
     "execution_count": 104,
     "metadata": {},
     "output_type": "execute_result"
    }
   ],
   "source": [
    "df_full[df_full.author.apply(lambda x: \"M. Maggiore\" in x)==True]"
   ]
  },
  {
   "cell_type": "code",
   "execution_count": 107,
   "metadata": {},
   "outputs": [
    {
     "data": {
      "text/html": [
       "<div>\n",
       "<style scoped>\n",
       "    .dataframe tbody tr th:only-of-type {\n",
       "        vertical-align: middle;\n",
       "    }\n",
       "\n",
       "    .dataframe tbody tr th {\n",
       "        vertical-align: top;\n",
       "    }\n",
       "\n",
       "    .dataframe thead th {\n",
       "        text-align: right;\n",
       "    }\n",
       "</style>\n",
       "<table border=\"1\" class=\"dataframe\">\n",
       "  <thead>\n",
       "    <tr style=\"text-align: right;\">\n",
       "      <th></th>\n",
       "      <th>ID</th>\n",
       "      <th>date</th>\n",
       "      <th>title</th>\n",
       "      <th>author</th>\n",
       "      <th>link</th>\n",
       "      <th>journal</th>\n",
       "      <th>comments</th>\n",
       "      <th>primary_cat</th>\n",
       "      <th>all_cat</th>\n",
       "      <th>abstract</th>\n",
       "      <th>arxiv_category</th>\n",
       "      <th>year</th>\n",
       "      <th>arxiv_category_grouped</th>\n",
       "    </tr>\n",
       "  </thead>\n",
       "  <tbody>\n",
       "  </tbody>\n",
       "</table>\n",
       "</div>"
      ],
      "text/plain": [
       "Empty DataFrame\n",
       "Columns: [ID, date, title, author, link, journal, comments, primary_cat, all_cat, abstract, arxiv_category, year, arxiv_category_grouped]\n",
       "Index: []"
      ]
     },
     "execution_count": 107,
     "metadata": {},
     "output_type": "execute_result"
    }
   ],
   "source": [
    "df_full[df_full.author.apply(lambda x: \"Durrer\" in x)==True]"
   ]
  },
  {
   "cell_type": "code",
   "execution_count": 102,
   "metadata": {
    "scrolled": true
   },
   "outputs": [
    {
     "data": {
      "text/html": [
       "<div>\n",
       "<style scoped>\n",
       "    .dataframe tbody tr th:only-of-type {\n",
       "        vertical-align: middle;\n",
       "    }\n",
       "\n",
       "    .dataframe tbody tr th {\n",
       "        vertical-align: top;\n",
       "    }\n",
       "\n",
       "    .dataframe thead th {\n",
       "        text-align: right;\n",
       "    }\n",
       "</style>\n",
       "<table border=\"1\" class=\"dataframe\">\n",
       "  <thead>\n",
       "    <tr style=\"text-align: right;\">\n",
       "      <th></th>\n",
       "      <th>ID</th>\n",
       "      <th>date</th>\n",
       "      <th>title</th>\n",
       "      <th>author</th>\n",
       "      <th>link</th>\n",
       "      <th>journal</th>\n",
       "      <th>comments</th>\n",
       "      <th>primary_cat</th>\n",
       "      <th>all_cat</th>\n",
       "      <th>abstract</th>\n",
       "      <th>arxiv_category</th>\n",
       "      <th>year</th>\n",
       "      <th>arxiv_category_grouped</th>\n",
       "    </tr>\n",
       "  </thead>\n",
       "  <tbody>\n",
       "    <tr>\n",
       "      <td>3525</td>\n",
       "      <td>1801.04140</td>\n",
       "      <td>2018-01-12T11:57:22Z</td>\n",
       "      <td>Cosmic String Detection with Tree-Based Machin...</td>\n",
       "      <td>A. Vafaei Sadr,M. Farhang,S. M. S. Movahed,B. ...</td>\n",
       "      <td>http://arxiv.org/abs/1801.04140v1</td>\n",
       "      <td>Monthly Notices of the Royal Astronomical Soci...</td>\n",
       "      <td>7 pages, 3 figures, 2 tables, Comments are wel...</td>\n",
       "      <td>astro-ph.CO</td>\n",
       "      <td>['astro-ph.CO', 'astro-ph.IM', 'physics.data-a...</td>\n",
       "      <td>We explore the use of random forest and gradie...</td>\n",
       "      <td>phys</td>\n",
       "      <td>2018</td>\n",
       "      <td>Physics</td>\n",
       "    </tr>\n",
       "    <tr>\n",
       "      <td>17694</td>\n",
       "      <td>1502.00543</td>\n",
       "      <td>2015-02-02T16:45:34Z</td>\n",
       "      <td>Planck 2013 results. XXIX. The Planck catalogu...</td>\n",
       "      <td>Planck Collaboration,P. A. R. Ade,N. Aghanim,C...</td>\n",
       "      <td>http://arxiv.org/abs/1502.00543v1</td>\n",
       "      <td>None</td>\n",
       "      <td>Submitted to A&amp;A</td>\n",
       "      <td>astro-ph.CO</td>\n",
       "      <td>['astro-ph.CO']</td>\n",
       "      <td>We update the all-sky Planck catalogue of 1227...</td>\n",
       "      <td>phys</td>\n",
       "      <td>2015</td>\n",
       "      <td>Physics</td>\n",
       "    </tr>\n",
       "  </tbody>\n",
       "</table>\n",
       "</div>"
      ],
      "text/plain": [
       "               ID                  date  \\\n",
       "3525   1801.04140  2018-01-12T11:57:22Z   \n",
       "17694  1502.00543  2015-02-02T16:45:34Z   \n",
       "\n",
       "                                                   title  \\\n",
       "3525   Cosmic String Detection with Tree-Based Machin...   \n",
       "17694  Planck 2013 results. XXIX. The Planck catalogu...   \n",
       "\n",
       "                                                  author  \\\n",
       "3525   A. Vafaei Sadr,M. Farhang,S. M. S. Movahed,B. ...   \n",
       "17694  Planck Collaboration,P. A. R. Ade,N. Aghanim,C...   \n",
       "\n",
       "                                    link  \\\n",
       "3525   http://arxiv.org/abs/1801.04140v1   \n",
       "17694  http://arxiv.org/abs/1502.00543v1   \n",
       "\n",
       "                                                 journal  \\\n",
       "3525   Monthly Notices of the Royal Astronomical Soci...   \n",
       "17694                                               None   \n",
       "\n",
       "                                                comments  primary_cat  \\\n",
       "3525   7 pages, 3 figures, 2 tables, Comments are wel...  astro-ph.CO   \n",
       "17694                                   Submitted to A&A  astro-ph.CO   \n",
       "\n",
       "                                                 all_cat  \\\n",
       "3525   ['astro-ph.CO', 'astro-ph.IM', 'physics.data-a...   \n",
       "17694                                    ['astro-ph.CO']   \n",
       "\n",
       "                                                abstract arxiv_category  year  \\\n",
       "3525   We explore the use of random forest and gradie...           phys  2018   \n",
       "17694  We update the all-sky Planck catalogue of 1227...           phys  2015   \n",
       "\n",
       "      arxiv_category_grouped  \n",
       "3525                 Physics  \n",
       "17694                Physics  "
      ]
     },
     "execution_count": 102,
     "metadata": {},
     "output_type": "execute_result"
    }
   ],
   "source": [
    "df_full[df_full.author.apply(lambda x: \"M. Kunz\" in x)==True]"
   ]
  }
 ],
 "metadata": {
  "kernelspec": {
   "display_name": "Python 3",
   "language": "python",
   "name": "python3"
  },
  "language_info": {
   "codemirror_mode": {
    "name": "ipython",
    "version": 3
   },
   "file_extension": ".py",
   "mimetype": "text/x-python",
   "name": "python",
   "nbconvert_exporter": "python",
   "pygments_lexer": "ipython3",
   "version": "3.7.3"
  }
 },
 "nbformat": 4,
 "nbformat_minor": 2
}
