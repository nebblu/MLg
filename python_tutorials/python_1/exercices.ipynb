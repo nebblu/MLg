{
 "cells": [
  {
   "cell_type": "markdown",
   "metadata": {},
   "source": [
    "# PART 1, MODULES, CLASSES AND NAMESPACES"
   ]
  },
  {
   "cell_type": "code",
   "execution_count": 1,
   "metadata": {},
   "outputs": [
    {
     "ename": "ModuleNotFoundError",
     "evalue": "No module named 'python_examples'",
     "output_type": "error",
     "traceback": [
      "\u001b[0;31m---------------------------------------------------------------------------\u001b[0m",
      "\u001b[0;31mModuleNotFoundError\u001b[0m                       Traceback (most recent call last)",
      "\u001b[0;32m<ipython-input-1-ae2e8a2365e7>\u001b[0m in \u001b[0;36m<module>\u001b[0;34m\u001b[0m\n\u001b[0;32m----> 1\u001b[0;31m \u001b[0;32mimport\u001b[0m \u001b[0mpython_examples\u001b[0m \u001b[0;32mas\u001b[0m \u001b[0mpex\u001b[0m\u001b[0;34m\u001b[0m\u001b[0;34m\u001b[0m\u001b[0m\n\u001b[0m\u001b[1;32m      2\u001b[0m \u001b[0mprint\u001b[0m\u001b[0;34m(\u001b[0m\u001b[0mpex\u001b[0m\u001b[0;34m.\u001b[0m\u001b[0mhello_world_class\u001b[0m\u001b[0;34m.\u001b[0m\u001b[0mtext\u001b[0m\u001b[0;34m)\u001b[0m\u001b[0;34m\u001b[0m\u001b[0;34m\u001b[0m\u001b[0m\n",
      "\u001b[0;31mModuleNotFoundError\u001b[0m: No module named 'python_examples'"
     ]
    }
   ],
   "source": [
    "import python_examples as pex\n",
    "print(pex.hello_world_class.text)"
   ]
  },
  {
   "cell_type": "markdown",
   "metadata": {},
   "source": [
    "### We modify the python_example.py (changing the 7th line to: text = \"test2\"), and re-import it"
   ]
  },
  {
   "cell_type": "code",
   "execution_count": 2,
   "metadata": {},
   "outputs": [
    {
     "name": "stdout",
     "output_type": "stream",
     "text": [
      "test\n"
     ]
    }
   ],
   "source": [
    "import python_examples as pex\n",
    "\n",
    "print(pex.hello_world_class.text)"
   ]
  },
  {
   "cell_type": "markdown",
   "metadata": {},
   "source": [
    "### we need to use the importlib module function importlib.reload(Oject)"
   ]
  },
  {
   "cell_type": "code",
   "execution_count": 71,
   "metadata": {},
   "outputs": [
    {
     "ename": "ModuleNotFoundError",
     "evalue": "spec not found for the module 'python_examples'",
     "output_type": "error",
     "traceback": [
      "\u001b[0;31m---------------------------------------------------------------------------\u001b[0m",
      "\u001b[0;31mModuleNotFoundError\u001b[0m                       Traceback (most recent call last)",
      "\u001b[0;32m<ipython-input-71-149c0128b75d>\u001b[0m in \u001b[0;36m<module>\u001b[0;34m\u001b[0m\n\u001b[1;32m      1\u001b[0m \u001b[0;32mimport\u001b[0m \u001b[0mimportlib\u001b[0m \u001b[0;32mas\u001b[0m \u001b[0mim\u001b[0m\u001b[0;34m\u001b[0m\u001b[0;34m\u001b[0m\u001b[0m\n\u001b[1;32m      2\u001b[0m \u001b[0;34m\u001b[0m\u001b[0m\n\u001b[0;32m----> 3\u001b[0;31m \u001b[0mim\u001b[0m\u001b[0;34m.\u001b[0m\u001b[0mreload\u001b[0m\u001b[0;34m(\u001b[0m\u001b[0mpex\u001b[0m\u001b[0;34m)\u001b[0m\u001b[0;34m\u001b[0m\u001b[0;34m\u001b[0m\u001b[0m\n\u001b[0m\u001b[1;32m      4\u001b[0m \u001b[0;34m\u001b[0m\u001b[0m\n\u001b[1;32m      5\u001b[0m \u001b[0mprint\u001b[0m\u001b[0;34m(\u001b[0m\u001b[0mpex\u001b[0m\u001b[0;34m.\u001b[0m\u001b[0mhello_world_class\u001b[0m\u001b[0;34m.\u001b[0m\u001b[0mtext\u001b[0m\u001b[0;34m)\u001b[0m\u001b[0;34m\u001b[0m\u001b[0;34m\u001b[0m\u001b[0m\n",
      "\u001b[0;32m/opt/anaconda3/lib/python3.7/importlib/__init__.py\u001b[0m in \u001b[0;36mreload\u001b[0;34m(module)\u001b[0m\n\u001b[1;32m    166\u001b[0m         \u001b[0mspec\u001b[0m \u001b[0;34m=\u001b[0m \u001b[0mmodule\u001b[0m\u001b[0;34m.\u001b[0m\u001b[0m__spec__\u001b[0m \u001b[0;34m=\u001b[0m \u001b[0m_bootstrap\u001b[0m\u001b[0;34m.\u001b[0m\u001b[0m_find_spec\u001b[0m\u001b[0;34m(\u001b[0m\u001b[0mname\u001b[0m\u001b[0;34m,\u001b[0m \u001b[0mpkgpath\u001b[0m\u001b[0;34m,\u001b[0m \u001b[0mtarget\u001b[0m\u001b[0;34m)\u001b[0m\u001b[0;34m\u001b[0m\u001b[0;34m\u001b[0m\u001b[0m\n\u001b[1;32m    167\u001b[0m         \u001b[0;32mif\u001b[0m \u001b[0mspec\u001b[0m \u001b[0;32mis\u001b[0m \u001b[0;32mNone\u001b[0m\u001b[0;34m:\u001b[0m\u001b[0;34m\u001b[0m\u001b[0;34m\u001b[0m\u001b[0m\n\u001b[0;32m--> 168\u001b[0;31m             \u001b[0;32mraise\u001b[0m \u001b[0mModuleNotFoundError\u001b[0m\u001b[0;34m(\u001b[0m\u001b[0;34mf\"spec not found for the module {name!r}\"\u001b[0m\u001b[0;34m,\u001b[0m \u001b[0mname\u001b[0m\u001b[0;34m=\u001b[0m\u001b[0mname\u001b[0m\u001b[0;34m)\u001b[0m\u001b[0;34m\u001b[0m\u001b[0;34m\u001b[0m\u001b[0m\n\u001b[0m\u001b[1;32m    169\u001b[0m         \u001b[0m_bootstrap\u001b[0m\u001b[0;34m.\u001b[0m\u001b[0m_exec\u001b[0m\u001b[0;34m(\u001b[0m\u001b[0mspec\u001b[0m\u001b[0;34m,\u001b[0m \u001b[0mmodule\u001b[0m\u001b[0;34m)\u001b[0m\u001b[0;34m\u001b[0m\u001b[0;34m\u001b[0m\u001b[0m\n\u001b[1;32m    170\u001b[0m         \u001b[0;31m# The module may have replaced itself in sys.modules!\u001b[0m\u001b[0;34m\u001b[0m\u001b[0;34m\u001b[0m\u001b[0;34m\u001b[0m\u001b[0m\n",
      "\u001b[0;31mModuleNotFoundError\u001b[0m: spec not found for the module 'python_examples'"
     ]
    }
   ],
   "source": [
    "import importlib as im\n",
    "\n",
    "im.reload(pex)\n",
    "\n",
    "print(pex.hello_world_class.text)"
   ]
  },
  {
   "cell_type": "markdown",
   "metadata": {},
   "source": [
    "### Lets see what does the fact that the module pex and the class are singletons means:\n",
    "\n",
    "Lets change text=\"default\" and import a second module python_example"
   ]
  },
  {
   "cell_type": "code",
   "execution_count": 4,
   "metadata": {},
   "outputs": [
    {
     "name": "stdout",
     "output_type": "stream",
     "text": [
      "test2\n",
      "test2\n"
     ]
    }
   ],
   "source": [
    "import python_examples as pex2\n",
    "print(pex.hello_world_class.text)\n",
    "print(pex2.hello_world_class.text)"
   ]
  },
  {
   "cell_type": "markdown",
   "metadata": {},
   "source": [
    "### Lets change the variable text in the pex modul:"
   ]
  },
  {
   "cell_type": "code",
   "execution_count": 5,
   "metadata": {},
   "outputs": [
    {
     "name": "stdout",
     "output_type": "stream",
     "text": [
      "test3\n",
      "test3\n"
     ]
    }
   ],
   "source": [
    "pex.hello_world_class.text = \"test3\"\n",
    "print(pex.hello_world_class.text)\n",
    "print(pex2.hello_world_class.text)"
   ]
  },
  {
   "cell_type": "markdown",
   "metadata": {},
   "source": [
    "### Lets reload only pex2"
   ]
  },
  {
   "cell_type": "code",
   "execution_count": 6,
   "metadata": {},
   "outputs": [
    {
     "name": "stdout",
     "output_type": "stream",
     "text": [
      "default\n",
      "default\n"
     ]
    }
   ],
   "source": [
    "im.reload(pex2)\n",
    "print(pex.hello_world_class.text)\n",
    "print(pex2.hello_world_class.text)"
   ]
  },
  {
   "cell_type": "markdown",
   "metadata": {},
   "source": [
    "## NAMSPACE\n",
    "\n",
    "### Lets try to call the method say_it"
   ]
  },
  {
   "cell_type": "code",
   "execution_count": 7,
   "metadata": {},
   "outputs": [
    {
     "name": "stdout",
     "output_type": "stream",
     "text": [
      "hello world\n"
     ]
    }
   ],
   "source": [
    "pex.hello_world_class.say_it()"
   ]
  },
  {
   "cell_type": "code",
   "execution_count": 8,
   "metadata": {},
   "outputs": [
    {
     "name": "stdout",
     "output_type": "stream",
     "text": [
      "default\n",
      "default\n"
     ]
    }
   ],
   "source": [
    "print(pex.hello_world_class.text)\n",
    "print(pex2.hello_world_class.text)"
   ]
  },
  {
   "cell_type": "markdown",
   "metadata": {},
   "source": [
    "### Oh! text have not been updated! (Reminder: a namespace is a list of name, and the scope of this namespace is the area in the code where this namespace is valid)"
   ]
  },
  {
   "cell_type": "code",
   "execution_count": 9,
   "metadata": {},
   "outputs": [
    {
     "name": "stdout",
     "output_type": "stream",
     "text": [
      "at global scope, before execution of some_func:  var1: 1 var2: 1 var3: 1\n",
      "within some_func, before the call of some_inner_func:  var1: 1 var2: 6 var3: 1\n",
      "within some_inner_func:  var1: 1 var2: 6 var3: 7\n",
      "within some_func, before the call of some_inner_func:  var1: 1 var2: 6 var3: 1\n",
      "at global scope, after execution of some_func:  var1: 1 var2: 1 var3: 1\n"
     ]
    }
   ],
   "source": [
    "#var1 var2 var3 are in the global namespace\n",
    "var1 = 1\n",
    "var2 = 1\n",
    "var3 = 1\n",
    "\n",
    "def some_func(): \n",
    "    \n",
    "    var2 = 6\n",
    "    \n",
    "    def some_inner_func(): \n",
    "        \n",
    "        var3 = 7\n",
    "        print(\"within some_inner_func: \",\n",
    "          \"var1:\",var1,\n",
    "          \"var2:\",var2,\n",
    "          \"var3:\",var3)\n",
    "        \n",
    "    print(\"within some_func, before the call of some_inner_func: \",\n",
    "          \"var1:\",var1,\n",
    "          \"var2:\",var2,\n",
    "          \"var3:\",var3)\n",
    "    some_inner_func()\n",
    "    print(\"within some_func, before the call of some_inner_func: \",\n",
    "          \"var1:\",var1,\n",
    "          \"var2:\",var2,\n",
    "          \"var3:\",var3)\n",
    "    \n",
    "print(\"at global scope, before execution of some_func: \",\n",
    "          \"var1:\",var1,\n",
    "          \"var2:\",var2,\n",
    "          \"var3:\",var3)\n",
    "some_func()\n",
    "print(\"at global scope, after execution of some_func: \",\n",
    "          \"var1:\",var1,\n",
    "          \"var2:\",var2,\n",
    "          \"var3:\",var3)\n",
    "\n"
   ]
  },
  {
   "cell_type": "markdown",
   "metadata": {},
   "source": [
    "### Lets now make var2 and var3 global (var1 is unused in the functions, so no need to make it global)"
   ]
  },
  {
   "cell_type": "code",
   "execution_count": 10,
   "metadata": {},
   "outputs": [
    {
     "name": "stdout",
     "output_type": "stream",
     "text": [
      "at global scope, before execution of some_func:  var1: 1 var2: 1 var3: 1\n",
      "within some_func, before the call of some_inner_func:  var1: 1 var2: 6 var3: 1\n",
      "within some_inner_func:  var1: 1 var2: 6 var3: 7\n",
      "within some_func, before the call of some_inner_func:  var1: 1 var2: 6 var3: 7\n",
      "at global scope, after execution of some_func:  var1: 1 var2: 6 var3: 7\n"
     ]
    }
   ],
   "source": [
    "#var1 var2 var3 are in the global namespace\n",
    "var1 = 1\n",
    "var2 = 1\n",
    "var3 = 1\n",
    "\n",
    "def some_func(): \n",
    "    # var2 is in the global namespace \n",
    "    global var2  \n",
    "    var2 = 6\n",
    "    \n",
    "    def some_inner_func(): \n",
    "        # var3 is in the global namespace \n",
    "        global var3;\n",
    "        var3 = 7\n",
    "        print(\"within some_inner_func: \",\n",
    "          \"var1:\",var1,\n",
    "          \"var2:\",var2,\n",
    "          \"var3:\",var3)\n",
    "        \n",
    "    print(\"within some_func, before the call of some_inner_func: \",\n",
    "          \"var1:\",var1,\n",
    "          \"var2:\",var2,\n",
    "          \"var3:\",var3)\n",
    "    some_inner_func()\n",
    "    print(\"within some_func, before the call of some_inner_func: \",\n",
    "          \"var1:\",var1,\n",
    "          \"var2:\",var2,\n",
    "          \"var3:\",var3)\n",
    "    \n",
    "print(\"at global scope, before execution of some_func: \",\n",
    "          \"var1:\",var1,\n",
    "          \"var2:\",var2,\n",
    "          \"var3:\",var3)\n",
    "some_func()\n",
    "print(\"at global scope, after execution of some_func: \",\n",
    "          \"var1:\",var1,\n",
    "          \"var2:\",var2,\n",
    "          \"var3:\",var3)\n",
    "\n"
   ]
  },
  {
   "cell_type": "markdown",
   "metadata": {},
   "source": [
    "### BACK TO THE CLASS\n",
    "\n",
    "### Lets go back to our example, and replace \"text=...\" by \"self.text=...\" in say_it() (to say that we refere to the \"text\" variable in the the class namespace) "
   ]
  },
  {
   "cell_type": "code",
   "execution_count": 14,
   "metadata": {},
   "outputs": [
    {
     "ename": "NameError",
     "evalue": "name 'self' is not defined",
     "output_type": "error",
     "traceback": [
      "\u001b[0;31m---------------------------------------------------------------------------\u001b[0m",
      "\u001b[0;31mNameError\u001b[0m                                 Traceback (most recent call last)",
      "\u001b[0;32m<ipython-input-14-ae56584d9b71>\u001b[0m in \u001b[0;36m<module>\u001b[0;34m\u001b[0m\n\u001b[1;32m      1\u001b[0m \u001b[0mim\u001b[0m\u001b[0;34m.\u001b[0m\u001b[0mreload\u001b[0m\u001b[0;34m(\u001b[0m\u001b[0mpex\u001b[0m\u001b[0;34m)\u001b[0m\u001b[0;34m\u001b[0m\u001b[0;34m\u001b[0m\u001b[0m\n\u001b[0;32m----> 2\u001b[0;31m \u001b[0mpex\u001b[0m\u001b[0;34m.\u001b[0m\u001b[0mhello_world_class\u001b[0m\u001b[0;34m.\u001b[0m\u001b[0msay_it\u001b[0m\u001b[0;34m(\u001b[0m\u001b[0;34m)\u001b[0m\u001b[0;34m\u001b[0m\u001b[0;34m\u001b[0m\u001b[0m\n\u001b[0m\u001b[1;32m      3\u001b[0m \u001b[0mprint\u001b[0m\u001b[0;34m(\u001b[0m\u001b[0mpex\u001b[0m\u001b[0;34m.\u001b[0m\u001b[0mhello_world_class\u001b[0m\u001b[0;34m.\u001b[0m\u001b[0mtext\u001b[0m\u001b[0;34m)\u001b[0m\u001b[0;34m\u001b[0m\u001b[0;34m\u001b[0m\u001b[0m\n",
      "\u001b[0;32m~/Dropbox/lectures/python_examples.py\u001b[0m in \u001b[0;36msay_it\u001b[0;34m()\u001b[0m\n\u001b[1;32m      5\u001b[0m     \u001b[0mtext\u001b[0m \u001b[0;34m=\u001b[0m \u001b[0;34m\"default\"\u001b[0m\u001b[0;34m\u001b[0m\u001b[0;34m\u001b[0m\u001b[0m\n\u001b[1;32m      6\u001b[0m     \u001b[0;32mdef\u001b[0m \u001b[0msay_it\u001b[0m\u001b[0;34m(\u001b[0m\u001b[0;34m)\u001b[0m\u001b[0;34m:\u001b[0m\u001b[0;34m\u001b[0m\u001b[0;34m\u001b[0m\u001b[0m\n\u001b[0;32m----> 7\u001b[0;31m         \u001b[0mself\u001b[0m\u001b[0;34m.\u001b[0m\u001b[0mtext\u001b[0m \u001b[0;34m=\u001b[0m \u001b[0;34m\"hello world\"\u001b[0m\u001b[0;34m\u001b[0m\u001b[0;34m\u001b[0m\u001b[0m\n\u001b[0m\u001b[1;32m      8\u001b[0m         \u001b[0mprint\u001b[0m\u001b[0;34m(\u001b[0m\u001b[0mtext\u001b[0m\u001b[0;34m)\u001b[0m\u001b[0;34m\u001b[0m\u001b[0;34m\u001b[0m\u001b[0m\n",
      "\u001b[0;31mNameError\u001b[0m: name 'self' is not defined"
     ]
    }
   ],
   "source": [
    "im.reload(pex)\n",
    "pex.hello_world_class.say_it()\n",
    "print(pex.hello_world_class.text)"
   ]
  },
  {
   "cell_type": "markdown",
   "metadata": {},
   "source": [
    "### indeed!!! where did we define \"self\", so lets put it in the argument of the method..."
   ]
  },
  {
   "cell_type": "code",
   "execution_count": 15,
   "metadata": {},
   "outputs": [
    {
     "ename": "TypeError",
     "evalue": "say_it() missing 1 required positional argument: 'self'",
     "output_type": "error",
     "traceback": [
      "\u001b[0;31m---------------------------------------------------------------------------\u001b[0m",
      "\u001b[0;31mTypeError\u001b[0m                                 Traceback (most recent call last)",
      "\u001b[0;32m<ipython-input-15-8ee251c75fa2>\u001b[0m in \u001b[0;36m<module>\u001b[0;34m\u001b[0m\n\u001b[1;32m      1\u001b[0m \u001b[0mim\u001b[0m\u001b[0;34m.\u001b[0m\u001b[0mreload\u001b[0m\u001b[0;34m(\u001b[0m\u001b[0mpex\u001b[0m\u001b[0;34m)\u001b[0m\u001b[0;34m\u001b[0m\u001b[0;34m\u001b[0m\u001b[0m\n\u001b[0;32m----> 2\u001b[0;31m \u001b[0mpex\u001b[0m\u001b[0;34m.\u001b[0m\u001b[0mhello_world_class\u001b[0m\u001b[0;34m.\u001b[0m\u001b[0msay_it\u001b[0m\u001b[0;34m(\u001b[0m\u001b[0;34m)\u001b[0m\u001b[0;34m\u001b[0m\u001b[0;34m\u001b[0m\u001b[0m\n\u001b[0m",
      "\u001b[0;31mTypeError\u001b[0m: say_it() missing 1 required positional argument: 'self'"
     ]
    }
   ],
   "source": [
    "im.reload(pex)\n",
    "pex.hello_world_class.say_it()"
   ]
  },
  {
   "cell_type": "markdown",
   "metadata": {},
   "source": [
    "### Q: what \"self\" should be? A: it should be the object itself..."
   ]
  },
  {
   "cell_type": "code",
   "execution_count": 16,
   "metadata": {},
   "outputs": [
    {
     "ename": "NameError",
     "evalue": "name 'text' is not defined",
     "output_type": "error",
     "traceback": [
      "\u001b[0;31m---------------------------------------------------------------------------\u001b[0m",
      "\u001b[0;31mNameError\u001b[0m                                 Traceback (most recent call last)",
      "\u001b[0;32m<ipython-input-16-120434d70ff4>\u001b[0m in \u001b[0;36m<module>\u001b[0;34m\u001b[0m\n\u001b[0;32m----> 1\u001b[0;31m \u001b[0mpex\u001b[0m\u001b[0;34m.\u001b[0m\u001b[0mhello_world_class\u001b[0m\u001b[0;34m.\u001b[0m\u001b[0msay_it\u001b[0m\u001b[0;34m(\u001b[0m\u001b[0mpex\u001b[0m\u001b[0;34m.\u001b[0m\u001b[0mhello_world_class\u001b[0m\u001b[0;34m)\u001b[0m\u001b[0;34m\u001b[0m\u001b[0;34m\u001b[0m\u001b[0m\n\u001b[0m",
      "\u001b[0;32m~/Dropbox/lectures/python_examples.py\u001b[0m in \u001b[0;36msay_it\u001b[0;34m(self)\u001b[0m\n\u001b[1;32m      6\u001b[0m     \u001b[0;32mdef\u001b[0m \u001b[0msay_it\u001b[0m\u001b[0;34m(\u001b[0m\u001b[0mself\u001b[0m\u001b[0;34m)\u001b[0m\u001b[0;34m:\u001b[0m\u001b[0;34m\u001b[0m\u001b[0;34m\u001b[0m\u001b[0m\n\u001b[1;32m      7\u001b[0m         \u001b[0mself\u001b[0m\u001b[0;34m.\u001b[0m\u001b[0mtext\u001b[0m \u001b[0;34m=\u001b[0m \u001b[0;34m\"hello world\"\u001b[0m\u001b[0;34m\u001b[0m\u001b[0;34m\u001b[0m\u001b[0m\n\u001b[0;32m----> 8\u001b[0;31m         \u001b[0mprint\u001b[0m\u001b[0;34m(\u001b[0m\u001b[0mtext\u001b[0m\u001b[0;34m)\u001b[0m\u001b[0;34m\u001b[0m\u001b[0;34m\u001b[0m\u001b[0m\n\u001b[0m",
      "\u001b[0;31mNameError\u001b[0m: name 'text' is not defined"
     ]
    }
   ],
   "source": [
    "pex.hello_world_class.say_it(pex.hello_world_class)"
   ]
  },
  {
   "cell_type": "markdown",
   "metadata": {},
   "source": [
    "### Indeed the \"text\" variable have never been assigned to the \"say_it\" method namespace! But self.text is declared in the namespace of the class (line 7)."
   ]
  },
  {
   "cell_type": "code",
   "execution_count": 17,
   "metadata": {},
   "outputs": [
    {
     "name": "stdout",
     "output_type": "stream",
     "text": [
      "hello world\n"
     ]
    }
   ],
   "source": [
    "im.reload(pex)\n",
    "pex.hello_world_class.say_it(pex.hello_world_class)"
   ]
  },
  {
   "cell_type": "markdown",
   "metadata": {},
   "source": [
    "### And now the variable \"text\" has been updated! Lets remind us that modules and class are singletons:"
   ]
  },
  {
   "cell_type": "code",
   "execution_count": 18,
   "metadata": {},
   "outputs": [
    {
     "name": "stdout",
     "output_type": "stream",
     "text": [
      "hello world\n",
      "hello world\n"
     ]
    }
   ],
   "source": [
    "print(pex.hello_world_class.text)\n",
    "print(pex2.hello_world_class.text)"
   ]
  },
  {
   "cell_type": "markdown",
   "metadata": {},
   "source": [
    "### But I would like to work with multiple \"hello_world_class\", BUT A CLASS IS A SINGLETON!!!\n",
    "\n",
    "Instance are not signleton, they are new objects which are a (deep) copy of the class object.\n",
    "This copy is managed by the constructor \"()\" method of the class object \n",
    "This method \"()\" is automatically generated by the interpreter:"
   ]
  },
  {
   "cell_type": "code",
   "execution_count": 24,
   "metadata": {},
   "outputs": [
    {
     "name": "stdout",
     "output_type": "stream",
     "text": [
      "default\n",
      "default\n"
     ]
    }
   ],
   "source": [
    "im.reload(pex)\n",
    "hello_world_instance = pex.hello_world_class()\n",
    "hello_world_instance2 = pex.hello_world_class()\n",
    "print(hello_world_instance.text)\n",
    "print(hello_world_instance2.text)"
   ]
  },
  {
   "cell_type": "code",
   "execution_count": 25,
   "metadata": {},
   "outputs": [
    {
     "name": "stdout",
     "output_type": "stream",
     "text": [
      "say:  hello world\n",
      "hello world\n",
      "default\n"
     ]
    }
   ],
   "source": [
    "hello_world_instance.say_it()\n",
    "print(hello_world_instance.text)\n",
    "print(hello_world_instance2.text)"
   ]
  },
  {
   "cell_type": "markdown",
   "metadata": {},
   "source": [
    "### That's finaly it! hello_world_instance and hello_world_instance2 are two different instance of the class hello_world_class\n",
    "\n",
    "note: now we dont have to pass the instance in the \"say_it\" function. The interpreter do it for us, this implies that the first argument in a method declaration (which aims to be used on instance, internal function are exceptions)"
   ]
  },
  {
   "cell_type": "markdown",
   "metadata": {},
   "source": [
    "Lets add a explicit constructor to the class by adding the method \"__init__(self)\":"
   ]
  },
  {
   "cell_type": "code",
   "execution_count": 27,
   "metadata": {},
   "outputs": [
    {
     "name": "stdout",
     "output_type": "stream",
     "text": [
      "constructor called\n"
     ]
    }
   ],
   "source": [
    "im.reload(pex)\n",
    "hello_world_instance = pex.hello_world_class()"
   ]
  },
  {
   "cell_type": "markdown",
   "metadata": {},
   "source": [
    "### AS IN PYTHON: \"We are (nearly) all consenting adults and our bedroom is open\" (which allow most of the weird behaviour we just saw). It is advised to declare and initialize (which is done in one step in python (except for global variables)) variables in the constructor..."
   ]
  },
  {
   "cell_type": "code",
   "execution_count": 29,
   "metadata": {},
   "outputs": [
    {
     "name": "stdout",
     "output_type": "stream",
     "text": [
      "constructor called\n",
      "say:  hello world\n"
     ]
    }
   ],
   "source": [
    "im.reload(pex)\n",
    "hello_world_instance = pex.hello_world_class()\n",
    "hello_world_instance.say_it()"
   ]
  },
  {
   "cell_type": "markdown",
   "metadata": {},
   "source": [
    "### So now the class \"hello_world_class\" namespace does not have the variable \"text\" in it, but the instances of \"hello_world_class\" have !!!\n",
    "\n",
    "Quite advanced tip: indeed, it means that members of a class/instance can be dynamically inserted (logic as class and instance are objects in python and one have to be allowed to add \"elements\" to an object). You can have multiple instance of a same class which does not have the same members, this can be dangerous but also sometime useful !!! "
   ]
  },
  {
   "cell_type": "code",
   "execution_count": 30,
   "metadata": {},
   "outputs": [
    {
     "name": "stdout",
     "output_type": "stream",
     "text": [
      "hello world\n"
     ]
    },
    {
     "ename": "AttributeError",
     "evalue": "type object 'hello_world_class' has no attribute 'text'",
     "output_type": "error",
     "traceback": [
      "\u001b[0;31m---------------------------------------------------------------------------\u001b[0m",
      "\u001b[0;31mAttributeError\u001b[0m                            Traceback (most recent call last)",
      "\u001b[0;32m<ipython-input-30-f7cf33bcd4c7>\u001b[0m in \u001b[0;36m<module>\u001b[0;34m\u001b[0m\n\u001b[1;32m      1\u001b[0m \u001b[0mprint\u001b[0m\u001b[0;34m(\u001b[0m\u001b[0mhello_world_instance\u001b[0m\u001b[0;34m.\u001b[0m\u001b[0mtext\u001b[0m\u001b[0;34m)\u001b[0m\u001b[0;34m\u001b[0m\u001b[0;34m\u001b[0m\u001b[0m\n\u001b[0;32m----> 2\u001b[0;31m \u001b[0mprint\u001b[0m\u001b[0;34m(\u001b[0m\u001b[0mpex\u001b[0m\u001b[0;34m.\u001b[0m\u001b[0mhello_world_class\u001b[0m\u001b[0;34m.\u001b[0m\u001b[0mtext\u001b[0m\u001b[0;34m)\u001b[0m\u001b[0;34m\u001b[0m\u001b[0;34m\u001b[0m\u001b[0m\n\u001b[0m",
      "\u001b[0;31mAttributeError\u001b[0m: type object 'hello_world_class' has no attribute 'text'"
     ]
    }
   ],
   "source": [
    "print(hello_world_instance.text)\n",
    "print(pex.hello_world_class.text)"
   ]
  },
  {
   "cell_type": "code",
   "execution_count": 37,
   "metadata": {},
   "outputs": [
    {
     "ename": "TypeError",
     "evalue": "__init__() takes 1 positional argument but 2 were given",
     "output_type": "error",
     "traceback": [
      "\u001b[0;31m---------------------------------------------------------------------------\u001b[0m",
      "\u001b[0;31mTypeError\u001b[0m                                 Traceback (most recent call last)",
      "\u001b[0;32m<ipython-input-37-b9fcaeb17c6d>\u001b[0m in \u001b[0;36m<module>\u001b[0;34m\u001b[0m\n\u001b[1;32m      1\u001b[0m \u001b[0mim\u001b[0m\u001b[0;34m.\u001b[0m\u001b[0mreload\u001b[0m\u001b[0;34m(\u001b[0m\u001b[0mpex\u001b[0m\u001b[0;34m)\u001b[0m\u001b[0;34m\u001b[0m\u001b[0;34m\u001b[0m\u001b[0m\n\u001b[0;32m----> 2\u001b[0;31m \u001b[0mhello_world_instance\u001b[0m \u001b[0;34m=\u001b[0m \u001b[0mpex\u001b[0m\u001b[0;34m.\u001b[0m\u001b[0mhello_world_class\u001b[0m\u001b[0;34m(\u001b[0m\u001b[0;34m\"BLABLABLA\"\u001b[0m\u001b[0;34m)\u001b[0m\u001b[0;34m\u001b[0m\u001b[0;34m\u001b[0m\u001b[0m\n\u001b[0m\u001b[1;32m      3\u001b[0m \u001b[0mprint\u001b[0m\u001b[0;34m(\u001b[0m\u001b[0mhello_world_instance\u001b[0m\u001b[0;34m.\u001b[0m\u001b[0mtext\u001b[0m\u001b[0;34m)\u001b[0m\u001b[0;34m\u001b[0m\u001b[0;34m\u001b[0m\u001b[0m\n\u001b[1;32m      4\u001b[0m \u001b[0mhello_world_instance\u001b[0m \u001b[0;34m=\u001b[0m \u001b[0mpex\u001b[0m\u001b[0;34m.\u001b[0m\u001b[0mhello_world_class\u001b[0m\u001b[0;34m(\u001b[0m\u001b[0;34m)\u001b[0m\u001b[0;34m\u001b[0m\u001b[0;34m\u001b[0m\u001b[0m\n\u001b[1;32m      5\u001b[0m \u001b[0mprint\u001b[0m\u001b[0;34m(\u001b[0m\u001b[0mhello_world_instance\u001b[0m\u001b[0;34m.\u001b[0m\u001b[0mtext\u001b[0m\u001b[0;34m)\u001b[0m\u001b[0;34m\u001b[0m\u001b[0;34m\u001b[0m\u001b[0m\n",
      "\u001b[0;31mTypeError\u001b[0m: __init__() takes 1 positional argument but 2 were given"
     ]
    }
   ],
   "source": [
    "im.reload(pex)\n",
    "hello_world_instance = pex.hello_world_class(\"BLABLABLA\")\n",
    "print(hello_world_instance.text)\n",
    "hello_world_instance = pex.hello_world_class()\n",
    "print(hello_world_instance.text)"
   ]
  },
  {
   "cell_type": "code",
   "execution_count": 40,
   "metadata": {},
   "outputs": [
    {
     "name": "stdout",
     "output_type": "stream",
     "text": [
      "2\n"
     ]
    },
    {
     "data": {
      "text/plain": [
       "<module 'numpy' from '/opt/anaconda3/lib/python3.7/site-packages/numpy/__init__.py'>"
      ]
     },
     "execution_count": 40,
     "metadata": {},
     "output_type": "execute_result"
    }
   ],
   "source": [
    "import numpy as np\n",
    "np.array = 2\n",
    "print(np.array)\n",
    "im.reload(np)"
   ]
  },
  {
   "cell_type": "markdown",
   "metadata": {},
   "source": [
    "### If you want your variable to be global, in a class it will work just as for a function:"
   ]
  },
  {
   "cell_type": "code",
   "execution_count": 44,
   "metadata": {},
   "outputs": [
    {
     "name": "stdout",
     "output_type": "stream",
     "text": [
      "constructor called\n",
      "default\n",
      "hello world\n",
      "hello world\n"
     ]
    }
   ],
   "source": [
    "text = \"test\"\n",
    "class hello_world_class:\n",
    "    \n",
    "    def __init__(self):\n",
    "        print(\"constructor called\")\n",
    "        global text\n",
    "        text=\"default\"\n",
    "    def say_it(self):\n",
    "        global text\n",
    "        text = \"hello world\"\n",
    "        print(text)\n",
    "        \n",
    "hwc = hello_world_class()\n",
    "print(text)\n",
    "hwc.say_it()\n",
    "print(text)"
   ]
  },
  {
   "cell_type": "markdown",
   "metadata": {},
   "source": [
    "BUT and it is a big BUT:\n",
    "\n",
    "global variable in a module are \"global just for the module\", the module namespace is separated, therefore you will have:"
   ]
  },
  {
   "cell_type": "code",
   "execution_count": 43,
   "metadata": {},
   "outputs": [
    {
     "name": "stdout",
     "output_type": "stream",
     "text": [
      "test\n",
      "constructor called\n",
      "default\n"
     ]
    },
    {
     "ename": "AttributeError",
     "evalue": "'hello_world_class' object has no attribute 'text'",
     "output_type": "error",
     "traceback": [
      "\u001b[0;31m---------------------------------------------------------------------------\u001b[0m",
      "\u001b[0;31mAttributeError\u001b[0m                            Traceback (most recent call last)",
      "\u001b[0;32m<ipython-input-43-5b186c2b8f52>\u001b[0m in \u001b[0;36m<module>\u001b[0;34m\u001b[0m\n\u001b[1;32m      6\u001b[0m \u001b[0mhwc\u001b[0m \u001b[0;34m=\u001b[0m \u001b[0mpex3\u001b[0m\u001b[0;34m.\u001b[0m\u001b[0mhello_world_class\u001b[0m\u001b[0;34m(\u001b[0m\u001b[0;34m)\u001b[0m\u001b[0;34m\u001b[0m\u001b[0;34m\u001b[0m\u001b[0m\n\u001b[1;32m      7\u001b[0m \u001b[0mprint\u001b[0m\u001b[0;34m(\u001b[0m\u001b[0mpex3\u001b[0m\u001b[0;34m.\u001b[0m\u001b[0mtext\u001b[0m\u001b[0;34m)\u001b[0m\u001b[0;34m\u001b[0m\u001b[0;34m\u001b[0m\u001b[0m\n\u001b[0;32m----> 8\u001b[0;31m \u001b[0mprint\u001b[0m\u001b[0;34m(\u001b[0m\u001b[0mhwc\u001b[0m\u001b[0;34m.\u001b[0m\u001b[0mtext\u001b[0m\u001b[0;34m)\u001b[0m\u001b[0;34m\u001b[0m\u001b[0;34m\u001b[0m\u001b[0m\n\u001b[0m\u001b[1;32m      9\u001b[0m \u001b[0mprint\u001b[0m\u001b[0;34m(\u001b[0m\u001b[0mtext\u001b[0m\u001b[0;34m)\u001b[0m\u001b[0;34m\u001b[0m\u001b[0;34m\u001b[0m\u001b[0m\n",
      "\u001b[0;31mAttributeError\u001b[0m: 'hello_world_class' object has no attribute 'text'"
     ]
    }
   ],
   "source": [
    "global text\n",
    "text = \"AHAH\"\n",
    "import python_examples2 as pex3\n",
    "im.reload(pex3)\n",
    "print(pex3.text)\n",
    "hwc = pex3.hello_world_class()\n",
    "print(pex3.text)\n",
    "print(hwc.text)\n",
    "print(text)"
   ]
  },
  {
   "cell_type": "markdown",
   "metadata": {},
   "source": [
    "## Class inheritence....\n",
    "As an exercice... follow document: https://www.geeksforgeeks.org/inheritance-in-python/"
   ]
  },
  {
   "cell_type": "code",
   "execution_count": 46,
   "metadata": {},
   "outputs": [
    {
     "name": "stdout",
     "output_type": "stream",
     "text": [
      "chiwawa\n",
      "rex\n",
      "chiwawa\n"
     ]
    }
   ],
   "source": [
    "class animal:\n",
    "\n",
    "    def __init__(self, race):\n",
    "        self.race = race\n",
    "    def getRace(self):\n",
    "        return self.race\n",
    "\n",
    "class dog(animal):\n",
    "    def __init__(self,race, name):\n",
    "        self.name = name\n",
    "        animal.__init__(self, race)\n",
    "        \n",
    "        \n",
    "rex = dog(\"chiwawa\",\"rex\")\n",
    "print(rex.race)\n",
    "print(rex.name)\n",
    "print(rex.getRace())"
   ]
  },
  {
   "cell_type": "code",
   "execution_count": 47,
   "metadata": {},
   "outputs": [
    {
     "ename": "AttributeError",
     "evalue": "'dog' object has no attribute 'race'",
     "output_type": "error",
     "traceback": [
      "\u001b[0;31m---------------------------------------------------------------------------\u001b[0m",
      "\u001b[0;31mAttributeError\u001b[0m                            Traceback (most recent call last)",
      "\u001b[0;32m<ipython-input-47-0ba1dbfe0223>\u001b[0m in \u001b[0;36m<module>\u001b[0;34m\u001b[0m\n\u001b[1;32m     13\u001b[0m \u001b[0;34m\u001b[0m\u001b[0m\n\u001b[1;32m     14\u001b[0m \u001b[0mrex\u001b[0m \u001b[0;34m=\u001b[0m \u001b[0mdog\u001b[0m\u001b[0;34m(\u001b[0m\u001b[0;34m\"chiwawa\"\u001b[0m\u001b[0;34m,\u001b[0m\u001b[0;34m\"rex\"\u001b[0m\u001b[0;34m)\u001b[0m\u001b[0;34m\u001b[0m\u001b[0;34m\u001b[0m\u001b[0m\n\u001b[0;32m---> 15\u001b[0;31m \u001b[0mprint\u001b[0m\u001b[0;34m(\u001b[0m\u001b[0mrex\u001b[0m\u001b[0;34m.\u001b[0m\u001b[0mrace\u001b[0m\u001b[0;34m)\u001b[0m\u001b[0;34m\u001b[0m\u001b[0;34m\u001b[0m\u001b[0m\n\u001b[0m\u001b[1;32m     16\u001b[0m \u001b[0mprint\u001b[0m\u001b[0;34m(\u001b[0m\u001b[0mrex\u001b[0m\u001b[0;34m.\u001b[0m\u001b[0mname\u001b[0m\u001b[0;34m)\u001b[0m\u001b[0;34m\u001b[0m\u001b[0;34m\u001b[0m\u001b[0m\n\u001b[1;32m     17\u001b[0m \u001b[0mprint\u001b[0m\u001b[0;34m(\u001b[0m\u001b[0mrex\u001b[0m\u001b[0;34m.\u001b[0m\u001b[0mgetRace\u001b[0m\u001b[0;34m(\u001b[0m\u001b[0;34m)\u001b[0m\u001b[0;34m)\u001b[0m\u001b[0;34m\u001b[0m\u001b[0;34m\u001b[0m\u001b[0m\n",
      "\u001b[0;31mAttributeError\u001b[0m: 'dog' object has no attribute 'race'"
     ]
    }
   ],
   "source": [
    "class animal:\n",
    "\n",
    "    def __init__(self, race):\n",
    "        self.race = race\n",
    "    def getRace(self):\n",
    "        return self.race\n",
    "\n",
    "class dog(animal):\n",
    "    def __init__(self, race, name):\n",
    "        self.name = name\n",
    "        ##animal.__init__(self, race)\n",
    "        \n",
    "        \n",
    "rex = dog(\"chiwawa\",\"rex\")\n",
    "print(rex.race)\n",
    "print(rex.name)\n",
    "print(rex.getRace())"
   ]
  },
  {
   "cell_type": "code",
   "execution_count": 48,
   "metadata": {},
   "outputs": [
    {
     "name": "stdout",
     "output_type": "stream",
     "text": [
      "chiwawa\n",
      "rex\n"
     ]
    },
    {
     "ename": "AttributeError",
     "evalue": "'dog' object has no attribute 'getRace'",
     "output_type": "error",
     "traceback": [
      "\u001b[0;31m---------------------------------------------------------------------------\u001b[0m",
      "\u001b[0;31mAttributeError\u001b[0m                            Traceback (most recent call last)",
      "\u001b[0;32m<ipython-input-48-6edb8ac4b809>\u001b[0m in \u001b[0;36m<module>\u001b[0;34m\u001b[0m\n\u001b[1;32m     15\u001b[0m \u001b[0mprint\u001b[0m\u001b[0;34m(\u001b[0m\u001b[0mrex\u001b[0m\u001b[0;34m.\u001b[0m\u001b[0mrace\u001b[0m\u001b[0;34m)\u001b[0m\u001b[0;34m\u001b[0m\u001b[0;34m\u001b[0m\u001b[0m\n\u001b[1;32m     16\u001b[0m \u001b[0mprint\u001b[0m\u001b[0;34m(\u001b[0m\u001b[0mrex\u001b[0m\u001b[0;34m.\u001b[0m\u001b[0mname\u001b[0m\u001b[0;34m)\u001b[0m\u001b[0;34m\u001b[0m\u001b[0;34m\u001b[0m\u001b[0m\n\u001b[0;32m---> 17\u001b[0;31m \u001b[0mprint\u001b[0m\u001b[0;34m(\u001b[0m\u001b[0mrex\u001b[0m\u001b[0;34m.\u001b[0m\u001b[0mgetRace\u001b[0m\u001b[0;34m(\u001b[0m\u001b[0;34m)\u001b[0m\u001b[0;34m)\u001b[0m\u001b[0;34m\u001b[0m\u001b[0;34m\u001b[0m\u001b[0m\n\u001b[0m",
      "\u001b[0;31mAttributeError\u001b[0m: 'dog' object has no attribute 'getRace'"
     ]
    }
   ],
   "source": [
    "class animal:\n",
    "\n",
    "    def __init__(self, race):\n",
    "        self.race = race\n",
    "    def getRace(self):\n",
    "        return self.race\n",
    "\n",
    "class dog:\n",
    "    def __init__(self, race, name):\n",
    "        self.name = name\n",
    "        animal.__init__(self, race)\n",
    "        \n",
    "        \n",
    "rex = dog(\"chiwawa\",\"rex\")\n",
    "print(rex.race)\n",
    "print(rex.name)\n",
    "print(rex.getRace())"
   ]
  },
  {
   "cell_type": "code",
   "execution_count": 49,
   "metadata": {},
   "outputs": [
    {
     "name": "stdout",
     "output_type": "stream",
     "text": [
      "chiwawa\n",
      "rex\n",
      "chiwawa\n"
     ]
    }
   ],
   "source": [
    "class animal:\n",
    "\n",
    "    def __init__(self, race):\n",
    "        self.race = race\n",
    "    def getRace(self):\n",
    "        return self.race\n",
    "\n",
    "class dog(animal):\n",
    "    def __init__(self, race, name):\n",
    "        self.name = name\n",
    "        animal.__init__(self, race)\n",
    "        \n",
    "        \n",
    "rex = dog(\"chiwawa\",\"rex\")\n",
    "print(rex.race)\n",
    "print(rex.name)\n",
    "print(rex.getRace())"
   ]
  },
  {
   "cell_type": "markdown",
   "metadata": {},
   "source": [
    "DO NOT FORGET THE NAMING CONVENSION IN CLASSES:\n",
    "\n",
    "variable starting with one _ are protected, this means that only the \"childs\" should modified this variable\n",
    "variable starting with one __ are private, this means that one should touch those variable only in the class\n",
    "\n",
    "(people also use this convention for methods, but not always... \n",
    "_ Methods, should not be called outside the class or its childs\n",
    "__ Methods, should never be called outside the class (hihi except __init__() !!)\n",
    "\n",
    "Create wrapper to _ __ variable/method (getVariable, setVariable) \n",
    "publicMethod(): \n",
    "    __privateMethod()\n"
   ]
  },
  {
   "cell_type": "code",
   "execution_count": 53,
   "metadata": {},
   "outputs": [],
   "source": [
    "class animal:\n",
    "\n",
    "    def __init__(self, race):\n",
    "        self.race = race\n",
    "        self.__private = \"dskjhdsf\"\n",
    "        self._protected = \"protected\"\n",
    "    def getRace(self):\n",
    "        return self.race\n",
    "    def getPrivate(self):\n",
    "        return self.__private\n",
    "    def __getRace(self):\n",
    "            return self.race\n",
    "    "
   ]
  },
  {
   "cell_type": "code",
   "execution_count": 54,
   "metadata": {},
   "outputs": [
    {
     "name": "stdout",
     "output_type": "stream",
     "text": [
      "protected\n",
      "dskjhdsf\n"
     ]
    },
    {
     "ename": "AttributeError",
     "evalue": "'animal' object has no attribute '__private'",
     "output_type": "error",
     "traceback": [
      "\u001b[0;31m---------------------------------------------------------------------------\u001b[0m",
      "\u001b[0;31mAttributeError\u001b[0m                            Traceback (most recent call last)",
      "\u001b[0;32m<ipython-input-54-1d0862dc8a08>\u001b[0m in \u001b[0;36m<module>\u001b[0;34m\u001b[0m\n\u001b[1;32m      2\u001b[0m \u001b[0mprint\u001b[0m\u001b[0;34m(\u001b[0m\u001b[0ma\u001b[0m\u001b[0;34m.\u001b[0m\u001b[0m_protected\u001b[0m\u001b[0;34m)\u001b[0m\u001b[0;34m\u001b[0m\u001b[0;34m\u001b[0m\u001b[0m\n\u001b[1;32m      3\u001b[0m \u001b[0mprint\u001b[0m\u001b[0;34m(\u001b[0m\u001b[0ma\u001b[0m\u001b[0;34m.\u001b[0m\u001b[0mgetPrivate\u001b[0m\u001b[0;34m(\u001b[0m\u001b[0;34m)\u001b[0m\u001b[0;34m)\u001b[0m\u001b[0;34m\u001b[0m\u001b[0;34m\u001b[0m\u001b[0m\n\u001b[0;32m----> 4\u001b[0;31m \u001b[0mprint\u001b[0m\u001b[0;34m(\u001b[0m\u001b[0ma\u001b[0m\u001b[0;34m.\u001b[0m\u001b[0m__private\u001b[0m\u001b[0;34m)\u001b[0m\u001b[0;34m\u001b[0m\u001b[0;34m\u001b[0m\u001b[0m\n\u001b[0m",
      "\u001b[0;31mAttributeError\u001b[0m: 'animal' object has no attribute '__private'"
     ]
    }
   ],
   "source": [
    "a = animal(\"test\")\n",
    "print(a._protected)\n",
    "print(a.getPrivate())\n",
    "print(a.__private)"
   ]
  },
  {
   "cell_type": "code",
   "execution_count": 52,
   "metadata": {},
   "outputs": [
    {
     "ename": "AttributeError",
     "evalue": "'animal' object has no attribute '__getRace'",
     "output_type": "error",
     "traceback": [
      "\u001b[0;31m---------------------------------------------------------------------------\u001b[0m",
      "\u001b[0;31mAttributeError\u001b[0m                            Traceback (most recent call last)",
      "\u001b[0;32m<ipython-input-52-a5bf38852427>\u001b[0m in \u001b[0;36m<module>\u001b[0;34m\u001b[0m\n\u001b[0;32m----> 1\u001b[0;31m \u001b[0ma\u001b[0m\u001b[0;34m.\u001b[0m\u001b[0m__getRace\u001b[0m\u001b[0;34m(\u001b[0m\u001b[0;34m)\u001b[0m\u001b[0;34m\u001b[0m\u001b[0;34m\u001b[0m\u001b[0m\n\u001b[0m",
      "\u001b[0;31mAttributeError\u001b[0m: 'animal' object has no attribute '__getRace'"
     ]
    }
   ],
   "source": [
    "a.__getRace()"
   ]
  },
  {
   "cell_type": "code",
   "execution_count": null,
   "metadata": {},
   "outputs": [],
   "source": [
    "So one can have private member, but not protected!"
   ]
  },
  {
   "cell_type": "markdown",
   "metadata": {},
   "source": [
    "# DATATYPE and DATA STRUCTURE"
   ]
  },
  {
   "cell_type": "markdown",
   "metadata": {},
   "source": [
    "### In python variable are not declared explicitely. They are declared at first assignment. So if you assign a variable within a given namespace it will declare it if this variable is not yet in that namespace.\n",
    "\n",
    "## Numerics and Boolean and assignement.\n"
   ]
  },
  {
   "cell_type": "code",
   "execution_count": 55,
   "metadata": {},
   "outputs": [
    {
     "name": "stdout",
     "output_type": "stream",
     "text": [
      "1 <class 'int'>\n",
      "2.5 <class 'float'>\n",
      "(1+2j) <class 'complex'>\n",
      "True <class 'bool'>\n",
      "e <class 'str'>\n"
     ]
    }
   ],
   "source": [
    "a=1\n",
    "b=2.5\n",
    "c=complex(1,2)\n",
    "d=True\n",
    "f='e'\n",
    "print(a,type(a))\n",
    "print(b,type(b))\n",
    "print(c,type(c))\n",
    "print(d,type(d))\n",
    "print(f,type(f))\n"
   ]
  },
  {
   "cell_type": "code",
   "execution_count": 58,
   "metadata": {},
   "outputs": [
    {
     "name": "stdout",
     "output_type": "stream",
     "text": [
      "2.5 <class 'float'> 4464485872\n",
      "2.5 <class 'float'> 4464485872\n"
     ]
    }
   ],
   "source": [
    "a=b\n",
    "print(a,type(a),id(a))\n",
    "print(b,type(b),id(b))"
   ]
  },
  {
   "cell_type": "code",
   "execution_count": 59,
   "metadata": {},
   "outputs": [
    {
     "name": "stdout",
     "output_type": "stream",
     "text": [
      "2.5 <class 'float'> 4464485872\n",
      "1 <class 'int'> 4400342160\n"
     ]
    }
   ],
   "source": [
    "b=1\n",
    "print(a,type(a),id(a))\n",
    "print(b,type(b),id(b))"
   ]
  },
  {
   "cell_type": "markdown",
   "metadata": {},
   "source": [
    "As you see in python you do not have to give the type of a variable at declaration, which make sense as all variable are references (so a long...). \n",
    "\n",
    "Think a about a=1:\n",
    "\n",
    "1) a Int instance storing 1 is created at a given reference \"ref\"\n",
    "\n",
    "2) the reference associated to a is updated to be \"ref\""
   ]
  },
  {
   "cell_type": "markdown",
   "metadata": {},
   "source": [
    "## Sequence: string,list,tuple"
   ]
  },
  {
   "cell_type": "markdown",
   "metadata": {},
   "source": [
    "### in python there is 3 \"Sequence type\": strings, list and tuple."
   ]
  },
  {
   "cell_type": "code",
   "execution_count": 60,
   "metadata": {},
   "outputs": [
    {
     "name": "stdout",
     "output_type": "stream",
     "text": [
      "aString <class 'str'>\n",
      "(1, 'as', 2.3) <class 'tuple'>\n",
      "[1, 'as', 2.3] <class 'list'>\n"
     ]
    }
   ],
   "source": [
    "a=\"aString\"\n",
    "b=(1,\"as\",2.3)\n",
    "c=[1,\"as\",2.3]\n",
    "print(a,type(a))\n",
    "print(b,type(b))\n",
    "print(c,type(c))\n"
   ]
  },
  {
   "cell_type": "code",
   "execution_count": 66,
   "metadata": {},
   "outputs": [
    {
     "name": "stdout",
     "output_type": "stream",
     "text": [
      "another\n",
      "string\n",
      "aString <class 'str'>\n",
      "a <class 'str'>\n",
      "anotherString <class 'str'>\n",
      "another\n",
      "string <class 'str'>\n"
     ]
    },
    {
     "ename": "TypeError",
     "evalue": "'str' object does not support item assignment",
     "output_type": "error",
     "traceback": [
      "\u001b[0;31m---------------------------------------------------------------------------\u001b[0m",
      "\u001b[0;31mTypeError\u001b[0m                                 Traceback (most recent call last)",
      "\u001b[0;32m<ipython-input-66-7990f3d1602e>\u001b[0m in \u001b[0;36m<module>\u001b[0;34m\u001b[0m\n\u001b[1;32m      8\u001b[0m \u001b[0mprint\u001b[0m\u001b[0;34m(\u001b[0m\u001b[0mb\u001b[0m\u001b[0;34m,\u001b[0m\u001b[0mtype\u001b[0m\u001b[0;34m(\u001b[0m\u001b[0mb\u001b[0m\u001b[0;34m)\u001b[0m\u001b[0;34m)\u001b[0m\u001b[0;34m\u001b[0m\u001b[0;34m\u001b[0m\u001b[0m\n\u001b[1;32m      9\u001b[0m \u001b[0mprint\u001b[0m\u001b[0;34m(\u001b[0m\u001b[0mc\u001b[0m\u001b[0;34m,\u001b[0m\u001b[0mtype\u001b[0m\u001b[0;34m(\u001b[0m\u001b[0mc\u001b[0m\u001b[0;34m)\u001b[0m\u001b[0;34m)\u001b[0m\u001b[0;34m\u001b[0m\u001b[0;34m\u001b[0m\u001b[0m\n\u001b[0;32m---> 10\u001b[0;31m \u001b[0mc\u001b[0m\u001b[0;34m[\u001b[0m\u001b[0;36m0\u001b[0m\u001b[0;34m]\u001b[0m \u001b[0;34m=\u001b[0m \u001b[0;34m'2'\u001b[0m\u001b[0;34m\u001b[0m\u001b[0;34m\u001b[0m\u001b[0m\n\u001b[0m",
      "\u001b[0;31mTypeError\u001b[0m: 'str' object does not support item assignment"
     ]
    }
   ],
   "source": [
    "a='aString'\n",
    "b=\"anotherString\"\n",
    "c='''another\n",
    "string'''\n",
    "\n",
    "print(c)\n",
    "print(a,type(a))\n",
    "print(a[0],type(a[0]))\n",
    "print(b,type(b))\n",
    "print(c,type(c))\n",
    "c[0] = '2'"
   ]
  },
  {
   "cell_type": "code",
   "execution_count": 62,
   "metadata": {},
   "outputs": [
    {
     "name": "stdout",
     "output_type": "stream",
     "text": [
      "(1, 2, 3) <class 'tuple'> <class 'int'> 4442053360\n",
      "((1, 2), (3, 4)) 1 2 3 4\n"
     ]
    },
    {
     "ename": "TypeError",
     "evalue": "'tuple' object does not support item assignment",
     "output_type": "error",
     "traceback": [
      "\u001b[0;31m---------------------------------------------------------------------------\u001b[0m",
      "\u001b[0;31mTypeError\u001b[0m                                 Traceback (most recent call last)",
      "\u001b[0;32m<ipython-input-62-9c5830a365c9>\u001b[0m in \u001b[0;36m<module>\u001b[0;34m\u001b[0m\n\u001b[1;32m      6\u001b[0m \u001b[0;34m\u001b[0m\u001b[0m\n\u001b[1;32m      7\u001b[0m \u001b[0;34m\u001b[0m\u001b[0m\n\u001b[0;32m----> 8\u001b[0;31m \u001b[0maTuple\u001b[0m\u001b[0;34m[\u001b[0m\u001b[0;36m0\u001b[0m\u001b[0;34m]\u001b[0m\u001b[0;34m=\u001b[0m\u001b[0;36m2\u001b[0m\u001b[0;34m\u001b[0m\u001b[0;34m\u001b[0m\u001b[0m\n\u001b[0m",
      "\u001b[0;31mTypeError\u001b[0m: 'tuple' object does not support item assignment"
     ]
    }
   ],
   "source": [
    "aTuple = (1,2,3)\n",
    "print(aTuple,type(aTuple),type(aTuple[0]),id(aTuple))\n",
    "\n",
    "aTuple = ((1,2),(3,4))\n",
    "print(aTuple,aTuple[0][0],aTuple[0][1],aTuple[1][0],aTuple[1][1])\n",
    "\n",
    "\n",
    "aTuple[0]=2\n"
   ]
  },
  {
   "cell_type": "code",
   "execution_count": 67,
   "metadata": {},
   "outputs": [
    {
     "name": "stdout",
     "output_type": "stream",
     "text": [
      "[1, 2, 3] <class 'list'> 4442002128\n",
      "[4, 2, 3] <class 'list'> 4442002128 4442002128\n",
      "[4, 2, 3] <class 'list'> 4594983552\n",
      "[1, 2, 3] <class 'list'> 4595057280\n"
     ]
    }
   ],
   "source": [
    "aList = [1,2,3]\n",
    "print(aList,type(aList),id(aList))\n",
    "\n",
    "bList=aList\n",
    "bList[0]=4\n",
    "print(aList,type(aList),id(aList),id(bList))\n",
    "\n",
    "aList = [1,2,3]\n",
    "bList=aList[:]\n",
    "bList[0]=4\n",
    "print(bList,type(bList),id(bList))\n",
    "print(aList,type(aList),id(aList))\n"
   ]
  },
  {
   "cell_type": "markdown",
   "metadata": {},
   "source": [
    "Tuples protect you agains this:"
   ]
  },
  {
   "cell_type": "code",
   "execution_count": 47,
   "metadata": {},
   "outputs": [
    {
     "name": "stdout",
     "output_type": "stream",
     "text": [
      "(<__main__.hello_world_class object at 0x1083dc590>, <__main__.hello_world_class object at 0x1083dc0d0>, <__main__.hello_world_class object at 0x1083dc150>) \n",
      " 4433233296 4433233296\n"
     ]
    },
    {
     "ename": "TypeError",
     "evalue": "'tuple' object does not support item assignment",
     "output_type": "error",
     "traceback": [
      "\u001b[0;31m---------------------------------------------------------------------------\u001b[0m",
      "\u001b[0;31mTypeError\u001b[0m                                 Traceback (most recent call last)",
      "\u001b[0;32m<ipython-input-47-9f757524601b>\u001b[0m in \u001b[0;36m<module>\u001b[0;34m\u001b[0m\n\u001b[1;32m     12\u001b[0m \u001b[0maList\u001b[0m \u001b[0;34m=\u001b[0m \u001b[0;34m(\u001b[0m\u001b[0ma\u001b[0m\u001b[0;34m,\u001b[0m\u001b[0mb\u001b[0m\u001b[0;34m,\u001b[0m\u001b[0mc\u001b[0m\u001b[0;34m)\u001b[0m\u001b[0;34m\u001b[0m\u001b[0;34m\u001b[0m\u001b[0m\n\u001b[1;32m     13\u001b[0m \u001b[0mprint\u001b[0m\u001b[0;34m(\u001b[0m\u001b[0maList\u001b[0m\u001b[0;34m,\u001b[0m\u001b[0;34m\"\\n\"\u001b[0m\u001b[0;34m,\u001b[0m\u001b[0mid\u001b[0m\u001b[0;34m(\u001b[0m\u001b[0ma\u001b[0m\u001b[0;34m)\u001b[0m\u001b[0;34m,\u001b[0m\u001b[0mid\u001b[0m\u001b[0;34m(\u001b[0m\u001b[0maList\u001b[0m\u001b[0;34m[\u001b[0m\u001b[0;36m0\u001b[0m\u001b[0;34m]\u001b[0m\u001b[0;34m)\u001b[0m\u001b[0;34m)\u001b[0m\u001b[0;34m\u001b[0m\u001b[0;34m\u001b[0m\u001b[0m\n\u001b[0;32m---> 14\u001b[0;31m \u001b[0maList\u001b[0m\u001b[0;34m[\u001b[0m\u001b[0;36m0\u001b[0m\u001b[0;34m]\u001b[0m \u001b[0;34m=\u001b[0m \u001b[0mb\u001b[0m\u001b[0;34m\u001b[0m\u001b[0;34m\u001b[0m\u001b[0m\n\u001b[0m\u001b[1;32m     15\u001b[0m \u001b[0mprint\u001b[0m\u001b[0;34m(\u001b[0m\u001b[0maList\u001b[0m\u001b[0;34m,\u001b[0m\u001b[0;34m\"\\n\"\u001b[0m\u001b[0;34m,\u001b[0m\u001b[0mid\u001b[0m\u001b[0;34m(\u001b[0m\u001b[0ma\u001b[0m\u001b[0;34m)\u001b[0m\u001b[0;34m,\u001b[0m\u001b[0mid\u001b[0m\u001b[0;34m(\u001b[0m\u001b[0mb\u001b[0m\u001b[0;34m)\u001b[0m\u001b[0;34m,\u001b[0m\u001b[0mid\u001b[0m\u001b[0;34m(\u001b[0m\u001b[0maList\u001b[0m\u001b[0;34m[\u001b[0m\u001b[0;36m0\u001b[0m\u001b[0;34m]\u001b[0m\u001b[0;34m)\u001b[0m\u001b[0;34m)\u001b[0m\u001b[0;34m\u001b[0m\u001b[0;34m\u001b[0m\u001b[0m\n",
      "\u001b[0;31mTypeError\u001b[0m: 'tuple' object does not support item assignment"
     ]
    }
   ],
   "source": [
    "class hello_world_class:\n",
    "\n",
    "    def __init__(self,text):\n",
    "        self.text = text\n",
    "\n",
    "    def say_it(self):\n",
    "        print(self.text)\n",
    "        \n",
    "a = hello_world_class(\"text a\")\n",
    "b = hello_world_class(\"text b\")\n",
    "c = hello_world_class(\"text c\")\n",
    "aList = (a,b,c)\n",
    "print(aList,\"\\n\",id(a),id(aList[0]))\n",
    "aList[0] = b\n",
    "print(aList,\"\\n\",id(a),id(b),id(aList[0]))"
   ]
  },
  {
   "cell_type": "code",
   "execution_count": 48,
   "metadata": {},
   "outputs": [
    {
     "name": "stdout",
     "output_type": "stream",
     "text": [
      "([<__main__.hello_world_class object at 0x1083dd610>], [<__main__.hello_world_class object at 0x1083dde50>], [<__main__.hello_world_class object at 0x1083ddf90>]) \n",
      " 4433237520 4408508240\n",
      "([<__main__.hello_world_class object at 0x1083dde50>], [<__main__.hello_world_class object at 0x1083dde50>], [<__main__.hello_world_class object at 0x1083ddf90>]) \n",
      " 4433237520 4433239632 4433239632\n"
     ]
    }
   ],
   "source": [
    "\n",
    "\n",
    "a = hello_world_class(\"text a\")\n",
    "b = hello_world_class(\"text b\")\n",
    "c = hello_world_class(\"text c\")\n",
    "aList = ([a],[b],[c])\n",
    "print(aList,\"\\n\",id(a),id(aList[0]))\n",
    "aList[0][0] = b\n",
    "print(aList,\"\\n\",id(a),id(b),id(aList[0][0]))"
   ]
  },
  {
   "cell_type": "markdown",
   "metadata": {},
   "source": [
    "## Dictionary and set\n",
    "\n",
    "### a dictionnary is a Hashmap\n",
    "So you can retrive element very efficiently using a \"key\"."
   ]
  },
  {
   "cell_type": "code",
   "execution_count": 68,
   "metadata": {},
   "outputs": [
    {
     "name": "stdout",
     "output_type": "stream",
     "text": [
      "{'un': 1, 'deux': 2.0, 'trois': 3} 1 <class 'int'> <class 'float'>\n"
     ]
    }
   ],
   "source": [
    "aDict = {\"un\":1,\"deux\":2.0,\"trois\":3}\n",
    "print(aDict,aDict['un'],type(aDict['un']),type(aDict['deux']))"
   ]
  },
  {
   "cell_type": "code",
   "execution_count": 69,
   "metadata": {},
   "outputs": [],
   "source": [
    "class hello_world_class:\n",
    "\n",
    "    def __init__(self,text):\n",
    "        self.text = text\n",
    "\n",
    "    def say_it(self):\n",
    "        print(self.text)"
   ]
  },
  {
   "cell_type": "code",
   "execution_count": 50,
   "metadata": {},
   "outputs": [
    {
     "name": "stdout",
     "output_type": "stream",
     "text": [
      "text a\n",
      "4433239888 4433239888\n"
     ]
    }
   ],
   "source": [
    "a = hello_world_class(\"text a\")\n",
    "b = hello_world_class(\"text b\")\n",
    "c = hello_world_class(\"text c\")\n",
    "aDict = {\"un\":a,\"deux\":b,\"trois\":c}\n",
    "aDict[\"un\"].say_it()\n",
    "print(id(a),id(aDict[\"un\"]))"
   ]
  },
  {
   "cell_type": "code",
   "execution_count": 26,
   "metadata": {},
   "outputs": [
    {
     "name": "stdout",
     "output_type": "stream",
     "text": [
      "text b\n",
      "{'un': <__main__.hello_world_class object at 0x1117325d0>, 'deux': <__main__.hello_world_class object at 0x1117325d0>, 'trois': <__main__.hello_world_class object at 0x111732850>} \n",
      " 4587725136 4587726288 4587726288\n"
     ]
    }
   ],
   "source": [
    "aDict[\"un\"] = b\n",
    "aDict[\"un\"].say_it()\n",
    "print(aDict,\"\\n\",id(a),id(b),id(aDict[\"un\"]))"
   ]
  },
  {
   "cell_type": "code",
   "execution_count": 35,
   "metadata": {},
   "outputs": [
    {
     "name": "stdout",
     "output_type": "stream",
     "text": [
      "hehe\n",
      "{'un': <__main__.hello_world_class object at 0x1117325d0>, 'deux': <__main__.hello_world_class object at 0x1117325d0>, 'trois': <__main__.hello_world_class object at 0x111732850>, 'quatre': <__main__.hello_world_class object at 0x111732150>}\n",
      "hehe\n",
      "hehe\n"
     ]
    }
   ],
   "source": [
    "aDict[\"quatre\"] = a\n",
    "aDict[\"quatre\"].say_it()\n",
    "print(aDict)\n",
    "a.text = \"hehe\"\n",
    "print(a.text)\n",
    "aDict[\"quatre\"].say_it()"
   ]
  },
  {
   "cell_type": "code",
   "execution_count": 36,
   "metadata": {},
   "outputs": [
    {
     "name": "stdout",
     "output_type": "stream",
     "text": [
      "{'un': <__main__.hello_world_class object at 0x1117325d0>, 'deux': <__main__.hello_world_class object at 0x1117325d0>, 'trois': <__main__.hello_world_class object at 0x111732850>}\n"
     ]
    }
   ],
   "source": [
    "aDict.pop(\"quatre\")\n",
    "print(aDict)"
   ]
  },
  {
   "cell_type": "code",
   "execution_count": 37,
   "metadata": {},
   "outputs": [
    {
     "ename": "KeyError",
     "evalue": "'quatre'",
     "output_type": "error",
     "traceback": [
      "\u001b[0;31m---------------------------------------------------------------------------\u001b[0m",
      "\u001b[0;31mKeyError\u001b[0m                                  Traceback (most recent call last)",
      "\u001b[0;32m<ipython-input-37-f696f37f4438>\u001b[0m in \u001b[0;36m<module>\u001b[0;34m\u001b[0m\n\u001b[0;32m----> 1\u001b[0;31m \u001b[0maDict\u001b[0m\u001b[0;34m[\u001b[0m\u001b[0;34m\"quatre\"\u001b[0m\u001b[0;34m]\u001b[0m\u001b[0;34m\u001b[0m\u001b[0;34m\u001b[0m\u001b[0m\n\u001b[0m",
      "\u001b[0;31mKeyError\u001b[0m: 'quatre'"
     ]
    }
   ],
   "source": [
    "aDict[\"quatre\"]\n"
   ]
  },
  {
   "cell_type": "markdown",
   "metadata": {},
   "source": [
    "### a set is a hashtable\n",
    "\n",
    "So you can add/remove element very efficiently. It is also very efficient to check if an element is in the set."
   ]
  },
  {
   "cell_type": "code",
   "execution_count": 17,
   "metadata": {},
   "outputs": [
    {
     "name": "stdout",
     "output_type": "stream",
     "text": [
      "{'un', 2, 2.3} <class 'set'>\n"
     ]
    }
   ],
   "source": [
    "aSet = set([\"un\",2,2.3])\n",
    "print(aSet,type(aSet))"
   ]
  },
  {
   "cell_type": "code",
   "execution_count": 18,
   "metadata": {},
   "outputs": [
    {
     "name": "stdout",
     "output_type": "stream",
     "text": [
      "{'un', 2, 2.3, 4} <class 'set'>\n"
     ]
    }
   ],
   "source": [
    "aSet.add(4)\n",
    "print(aSet,type(aSet))"
   ]
  },
  {
   "cell_type": "code",
   "execution_count": 19,
   "metadata": {},
   "outputs": [
    {
     "name": "stdout",
     "output_type": "stream",
     "text": [
      "True\n",
      "False\n",
      "{2, 2.3, 4} <class 'set'>\n"
     ]
    }
   ],
   "source": [
    "print(\"un\" in aSet)\n",
    "aSet.remove(\"un\")\n",
    "print(\"un\" in aSet)\n",
    "print(aSet,type(aSet))"
   ]
  },
  {
   "cell_type": "code",
   "execution_count": 51,
   "metadata": {},
   "outputs": [
    {
     "ename": "NameError",
     "evalue": "name 'aSet' is not defined",
     "output_type": "error",
     "traceback": [
      "\u001b[0;31m---------------------------------------------------------------------------\u001b[0m",
      "\u001b[0;31mNameError\u001b[0m                                 Traceback (most recent call last)",
      "\u001b[0;32m<ipython-input-51-97abfd185956>\u001b[0m in \u001b[0;36m<module>\u001b[0;34m\u001b[0m\n\u001b[0;32m----> 1\u001b[0;31m \u001b[0maSet\u001b[0m\u001b[0;34m[\u001b[0m\u001b[0;36m3\u001b[0m\u001b[0;34m]\u001b[0m\u001b[0;34m\u001b[0m\u001b[0;34m\u001b[0m\u001b[0m\n\u001b[0m",
      "\u001b[0;31mNameError\u001b[0m: name 'aSet' is not defined"
     ]
    }
   ],
   "source": [
    "aSet[3]"
   ]
  },
  {
   "cell_type": "markdown",
   "metadata": {},
   "source": [
    "# Looping in Python"
   ]
  },
  {
   "cell_type": "code",
   "execution_count": 71,
   "metadata": {},
   "outputs": [
    {
     "name": "stdout",
     "output_type": "stream",
     "text": [
      "<class 'list'> <class 'int'> 5\n",
      "<class 'tuple'> <class 'int'> 3\n",
      "0\n",
      "1\n",
      "2\n",
      "3\n",
      "4\n",
      "20\n",
      "21\n",
      "22\n",
      "un\n",
      "deux\n",
      "trois\n",
      "bli\n",
      "blo\n",
      "bla\n"
     ]
    }
   ],
   "source": [
    "aL = list(range(0,5))\n",
    "bL = list(range(0,5))\n",
    "print(type(aL),type(aL[0]),len(aL))\n",
    "aT = tuple(range(20,23))\n",
    "bT = tuple(range(20,23))\n",
    "print(type(aT),type(aT[0]),len(aT))\n",
    "\n",
    "aDict = {\"un\":1,\"deux\":2,\"trois\":3}\n",
    "aSet = set([\"bli\",\"bla\",\"blo\"])\n",
    "for a in aL:\n",
    "    print(a)\n",
    "for a in aT:\n",
    "    print(a)\n",
    "for a in aDict:\n",
    "    print(a)\n",
    "for a in aSet:\n",
    "    print(a)\n"
   ]
  },
  {
   "cell_type": "code",
   "execution_count": 72,
   "metadata": {},
   "outputs": [
    {
     "name": "stdout",
     "output_type": "stream",
     "text": [
      "2\n",
      "4\n",
      "6\n",
      "8\n",
      "10\n",
      "12\n"
     ]
    }
   ],
   "source": [
    "for i in range(2,13,2):\n",
    "    print(i)"
   ]
  },
  {
   "cell_type": "code",
   "execution_count": 73,
   "metadata": {},
   "outputs": [
    {
     "name": "stdout",
     "output_type": "stream",
     "text": [
      "10\n",
      "0\n",
      "1\n",
      "2\n",
      "3\n",
      "4\n",
      "0\n",
      "1\n",
      "2\n",
      "3\n",
      "4\n",
      "========\n",
      "6\n",
      "20\n",
      "21\n",
      "22\n",
      "20\n",
      "21\n",
      "22\n"
     ]
    }
   ],
   "source": [
    "cL = aL+bL\n",
    "print(len(cL))\n",
    "for i in cL :\n",
    "    print(i)\n",
    "print(\"========\")\n",
    "cT = aT+bT\n",
    "print(len(cT))\n",
    "for i in cT :\n",
    "    print(i)"
   ]
  },
  {
   "cell_type": "markdown",
   "metadata": {},
   "source": [
    "Yes the + operator is overloaded for list by an append!"
   ]
  },
  {
   "cell_type": "code",
   "execution_count": 118,
   "metadata": {},
   "outputs": [
    {
     "name": "stdout",
     "output_type": "stream",
     "text": [
      "10 <class 'list'> [0, 1, 2, 3, 4]\n",
      "0\n",
      "1\n",
      "2\n",
      "3\n",
      "4\n",
      "0\n",
      "1\n",
      "2\n",
      "3\n",
      "4\n"
     ]
    }
   ],
   "source": [
    "d=[]\n",
    "d[:] = aL[:]+bL[:]\n",
    "print(len(d),type(d),aL[:])\n",
    "for i in d :\n",
    "    print(i)"
   ]
  },
  {
   "cell_type": "code",
   "execution_count": 77,
   "metadata": {},
   "outputs": [
    {
     "name": "stdout",
     "output_type": "stream",
     "text": [
      "4 <class 'int'>\n",
      "4 <class 'int'>\n",
      "4 <class 'int'>\n",
      "4 <class 'int'>\n",
      "4 <class 'int'>\n",
      "[4, 4, 4, 4, 4] <class 'list'> <class 'int'> 5\n",
      "[3, 3, 3, 3, 3] <class 'list'> <class 'int'> 5\n",
      "[4, 4, 4, 4, 4] <class 'list'> <class 'int'> 5\n"
     ]
    }
   ],
   "source": [
    "for i in aL:\n",
    "    print(i,type(i))\n",
    "    i=3;\n",
    "    \n",
    "print(aL,type(aL),type(aL[0]),len(aL))\n",
    "\n",
    "for i in range(0,len(aL)):\n",
    "    aL[i] = 3\n",
    "    \n",
    "print(aL,type(aL),type(aL[0]),len(aL))\n",
    "\n",
    "for i,a in enumerate(aL):\n",
    "    aL[i] = 4\n",
    "    a=5\n",
    "print(aL,type(aL),type(aL[0]),len(aL))"
   ]
  },
  {
   "cell_type": "code",
   "execution_count": 39,
   "metadata": {
    "collapsed": true
   },
   "outputs": [
    {
     "ename": "SyntaxError",
     "evalue": "invalid syntax (<ipython-input-39-a9da27266c4c>, line 1)",
     "output_type": "error",
     "traceback": [
      "\u001b[0;36m  File \u001b[0;32m\"<ipython-input-39-a9da27266c4c>\"\u001b[0;36m, line \u001b[0;32m1\u001b[0m\n\u001b[0;31m    But python loops are very slaw -> the array datatype (from Array or numpy, here we will use numpy ones)\u001b[0m\n\u001b[0m             ^\u001b[0m\n\u001b[0;31mSyntaxError\u001b[0m\u001b[0;31m:\u001b[0m invalid syntax\n"
     ]
    }
   ],
   "source": [
    "But python loops are very slow -> the array datatype (from Array or numpy, here we will use numpy ones)"
   ]
  },
  {
   "cell_type": "code",
   "execution_count": 78,
   "metadata": {},
   "outputs": [],
   "source": [
    "import numpy as np\n"
   ]
  },
  {
   "cell_type": "code",
   "execution_count": 80,
   "metadata": {},
   "outputs": [
    {
     "name": "stdout",
     "output_type": "stream",
     "text": [
      "[1. 2. 3.]\n",
      "[0. 0. 0. 0. 0.]\n",
      "[[0. 0. 0. 0. 0.]\n",
      " [0. 0. 0. 0. 0.]\n",
      " [0. 0. 0. 0. 0.]\n",
      " [0. 0. 0. 0. 0.]\n",
      " [0. 0. 0. 0. 0.]]\n",
      "[0 1 2 3 4 5 6 7 8 9]\n",
      "[0 1 2 3 4 5 6 7 8 9]\n"
     ]
    }
   ],
   "source": [
    "size = 10\n",
    "a = np.array([1.,2.,3.])\n",
    "print(a)\n",
    "a = np.zeros(5)\n",
    "print(a)\n",
    "a = np.zeros([5,5])\n",
    "print(a)\n",
    "a = np.array(range(0,size))\n",
    "print(a)\n",
    "b = np.array(range(0,size))\n",
    "print(a)"
   ]
  },
  {
   "cell_type": "code",
   "execution_count": 83,
   "metadata": {},
   "outputs": [
    {
     "name": "stdout",
     "output_type": "stream",
     "text": [
      "[ 0  2  4  6  8 10 12 14 16 18] <class 'numpy.ndarray'>\n"
     ]
    }
   ],
   "source": [
    "\n",
    "d=a[:]+b[:]\n",
    "print(d, type(d))"
   ]
  },
  {
   "cell_type": "code",
   "execution_count": 74,
   "metadata": {},
   "outputs": [],
   "source": []
  },
  {
   "cell_type": "code",
   "execution_count": 84,
   "metadata": {},
   "outputs": [
    {
     "name": "stdout",
     "output_type": "stream",
     "text": [
      "[ 0.   2.1  4.2  6.3  8.4 10.5 12.6 14.7 16.8 18.9] <class 'numpy.ndarray'> <class 'numpy.ndarray'>\n"
     ]
    }
   ],
   "source": [
    "c = np.array(10)\n",
    "c=2*a[:]+b[:]/10\n",
    "print(c, type(c),type(c[:]))"
   ]
  },
  {
   "cell_type": "code",
   "execution_count": 79,
   "metadata": {},
   "outputs": [
    {
     "name": "stdout",
     "output_type": "stream",
     "text": [
      "[ 0.   2.1  4.2  6.3  8.4 10.5 12.6 14.7 16.8 18.9] <class 'numpy.ndarray'>\n"
     ]
    }
   ],
   "source": [
    "c= 2*a + b/10\n",
    "print(c, type(c))"
   ]
  },
  {
   "cell_type": "code",
   "execution_count": 82,
   "metadata": {},
   "outputs": [
    {
     "ename": "SyntaxError",
     "evalue": "invalid syntax (<ipython-input-82-debcfc4ea508>, line 1)",
     "output_type": "error",
     "traceback": [
      "\u001b[0;36m  File \u001b[0;32m\"<ipython-input-82-debcfc4ea508>\"\u001b[0;36m, line \u001b[0;32m1\u001b[0m\n\u001b[0;31m    The evidently one can:\u001b[0m\n\u001b[0m                ^\u001b[0m\n\u001b[0;31mSyntaxError\u001b[0m\u001b[0;31m:\u001b[0m invalid syntax\n"
     ]
    }
   ],
   "source": [
    "The evidently one can:"
   ]
  },
  {
   "cell_type": "code",
   "execution_count": 85,
   "metadata": {},
   "outputs": [
    {
     "name": "stdout",
     "output_type": "stream",
     "text": [
      "[ 0.   2.1  4.2  6.3  8.4 10.5 12.6 14.7 16.8 18.9] <class 'numpy.ndarray'>\n"
     ]
    }
   ],
   "source": [
    "for i,(x,y) in enumerate(zip(a,b)):\n",
    "    c[i] = 2*x+y/10\n",
    "print(c, type(c))"
   ]
  },
  {
   "cell_type": "code",
   "execution_count": 88,
   "metadata": {},
   "outputs": [
    {
     "name": "stdout",
     "output_type": "stream",
     "text": [
      "Object `differences` not found.\n"
     ]
    }
   ],
   "source": [
    "## What is the differences?"
   ]
  },
  {
   "cell_type": "code",
   "execution_count": 87,
   "metadata": {},
   "outputs": [
    {
     "name": "stdout",
     "output_type": "stream",
     "text": [
      "0.006938934326171875\n",
      "===========\n",
      "0.008228063583374023\n",
      "===========\n",
      "3.626924991607666\n",
      "===========\n"
     ]
    }
   ],
   "source": [
    "import time\n",
    "\n",
    "size = 1000000\n",
    "a=np.array(range(0,size))\n",
    "b=np.array(range(0,size))\n",
    "c=np.array(size)\n",
    "\n",
    "start = time.time()\n",
    "c = 2*a+b/10\n",
    "end = time.time()\n",
    "\n",
    "print(end - start)\n",
    "print(\"===========\")\n",
    "\n",
    "start = time.time()\n",
    "c[:] = 2*a[:]+b[:]/10\n",
    "end = time.time()\n",
    "print(end - start)\n",
    "print(\"===========\")\n",
    "\n",
    "start = time.time()\n",
    "for i,(x,y) in enumerate(zip(a,b)):\n",
    "    c[i] = 2*x+y/10\n",
    "end = time.time()\n",
    "print(end - start)\n",
    "print(\"===========\")"
   ]
  },
  {
   "cell_type": "code",
   "execution_count": 88,
   "metadata": {},
   "outputs": [
    {
     "name": "stdout",
     "output_type": "stream",
     "text": [
      "[ 2  4  6  8 10 12 14 16 18 20]\n",
      "16\n",
      "[16 18 20]\n",
      "[ 2  4  6  8 10 12 14]\n",
      "[ 2  8 14 20]\n",
      "[20 18 16 14 12 10  8  6  4  2]\n",
      "[20 18 16 14 12 10  8  6]\n"
     ]
    }
   ],
   "source": [
    "a = np.array(range(1,11))\n",
    "a = 2*a\n",
    "print(a[:])\n",
    "print(a[-3])\n",
    "print(a[-3:])\n",
    "print(a[:-3])\n",
    "print(a[0:10:3])\n",
    "print(a[::-1])\n",
    "print(a[9:1:-1])"
   ]
  },
  {
   "cell_type": "code",
   "execution_count": 63,
   "metadata": {},
   "outputs": [
    {
     "ename": "SyntaxError",
     "evalue": "invalid syntax (<ipython-input-63-2508f9c7dc50>, line 1)",
     "output_type": "error",
     "traceback": [
      "\u001b[0;36m  File \u001b[0;32m\"<ipython-input-63-2508f9c7dc50>\"\u001b[0;36m, line \u001b[0;32m1\u001b[0m\n\u001b[0;31m    a derivative\u001b[0m\n\u001b[0m               ^\u001b[0m\n\u001b[0;31mSyntaxError\u001b[0m\u001b[0;31m:\u001b[0m invalid syntax\n"
     ]
    }
   ],
   "source": [
    "a derivative"
   ]
  },
  {
   "cell_type": "code",
   "execution_count": 66,
   "metadata": {},
   "outputs": [
    {
     "name": "stdout",
     "output_type": "stream",
     "text": [
      "[2 2 2 2 2 2 2 2 2]\n"
     ]
    }
   ],
   "source": [
    "c = a[1:]-a[:9]\n",
    "print(c)"
   ]
  },
  {
   "cell_type": "code",
   "execution_count": 69,
   "metadata": {},
   "outputs": [
    {
     "name": "stdout",
     "output_type": "stream",
     "text": [
      "[ 4  6  8 10 12 14 16 18 20  2]\n"
     ]
    }
   ],
   "source": [
    "ashift = np.roll(a,-1)\n",
    "print(ashift)"
   ]
  },
  {
   "cell_type": "code",
   "execution_count": 75,
   "metadata": {},
   "outputs": [
    {
     "name": "stdout",
     "output_type": "stream",
     "text": [
      "[  2   2   2   2   2   2   2   2   2 -18]\n",
      "[-18   2   2   2   2   2   2   2   2   2]\n",
      "[-8.  2.  2.  2.  2.  2.  2.  2.  2. -8.]\n"
     ]
    }
   ],
   "source": [
    "c = np.roll(a,-1) - a\n",
    "print(c)\n",
    "c = a - np.roll(a,1)\n",
    "print(c)\n",
    "c = (np.roll(a,-1) - np.roll(a,1))/2\n",
    "print(c)"
   ]
  },
  {
   "cell_type": "code",
   "execution_count": 76,
   "metadata": {},
   "outputs": [
    {
     "ename": "SyntaxError",
     "evalue": "invalid syntax (<ipython-input-76-a8f7be545124>, line 1)",
     "output_type": "error",
     "traceback": [
      "\u001b[0;36m  File \u001b[0;32m\"<ipython-input-76-a8f7be545124>\"\u001b[0;36m, line \u001b[0;32m1\u001b[0m\n\u001b[0;31m    lets see it with the function sin and cos:\u001b[0m\n\u001b[0m           ^\u001b[0m\n\u001b[0;31mSyntaxError\u001b[0m\u001b[0;31m:\u001b[0m invalid syntax\n"
     ]
    }
   ],
   "source": [
    "lets see it with the function sin and cos:"
   ]
  },
  {
   "cell_type": "code",
   "execution_count": 124,
   "metadata": {},
   "outputs": [],
   "source": [
    "size = 30\n",
    "dx = 2.0 * np.pi / size \n",
    "x = np.array(range(0,size)) * dx\n",
    "sinx = np.sin(x)\n",
    "cosx = np.cos(x)"
   ]
  },
  {
   "cell_type": "code",
   "execution_count": 125,
   "metadata": {},
   "outputs": [],
   "source": [
    "import matplotlib.pyplot as plt"
   ]
  },
  {
   "cell_type": "code",
   "execution_count": 126,
   "metadata": {},
   "outputs": [
    {
     "data": {
      "text/plain": [
       "[<matplotlib.lines.Line2D at 0x127b44dd0>]"
      ]
     },
     "execution_count": 126,
     "metadata": {},
     "output_type": "execute_result"
    },
    {
     "data": {
      "image/png": "[encoded data removed]",
      "text/plain": [
       "<Figure size 432x288 with 1 Axes>"
      ]
     },
     "metadata": {
      "needs_background": "light"
     },
     "output_type": "display_data"
    }
   ],
   "source": [
    "plt.plot(x,sinx,\"blue\")\n",
    "plt.plot(x,cosx,\"green\")\n",
    "plt.plot(x,(np.roll(sinx,-1) - sinx)/ dx, \"--\")\n",
    "plt.plot(x,(sinx - np.roll(sinx,1))/ dx, \"--\")\n",
    "plt.plot(x,(np.roll(sinx,-1) - np.roll(sinx,1))/(2.0*dx),\"black\")"
   ]
  },
  {
   "cell_type": "markdown",
   "metadata": {},
   "source": [
    "### Advanced: A bit on parallelisation:\n",
    "Becomes really relevant on multicores! "
   ]
  },
  {
   "cell_type": "code",
   "execution_count": 89,
   "metadata": {},
   "outputs": [],
   "source": [
    "import time\n",
    "import threading\n",
    "import numpy as np\n",
    "\n",
    "size = 100000000\n",
    "\n",
    "\n"
   ]
  },
  {
   "cell_type": "code",
   "execution_count": 90,
   "metadata": {},
   "outputs": [],
   "source": [
    "a=np.array(range(0,size))\n",
    "b=np.array(range(0,size))\n",
    "c=np.array(size)\n"
   ]
  },
  {
   "cell_type": "code",
   "execution_count": 93,
   "metadata": {},
   "outputs": [
    {
     "name": "stdout",
     "output_type": "stream",
     "text": [
      "1.339944839477539\n",
      "===========\n",
      "0.6542580127716064\n",
      "===========\n"
     ]
    }
   ],
   "source": [
    "start = time.time()\n",
    "c = 2*a+b/10\n",
    "end = time.time()\n",
    "print(end - start)\n",
    "print(\"===========\")\n",
    "\n",
    "def task(a,b,c):\n",
    "    c = 2*a+b/10\n",
    "\n",
    "blocks = 10;\n",
    "blocks_size = size//blocks\n",
    "\n",
    "\n",
    "\n",
    "thread_pool = []\n",
    "for i in range(blocks):\n",
    "    start = i*blocks_size\n",
    "    end = (i+1)*blocks_size\n",
    "    thread_pool.append(threading.Thread(target=task, args=(a[start:end],b[start:end],c[start:end])) )\n",
    "    \n",
    "\n",
    "\n",
    "start = time.time()\n",
    "for tr in thread_pool:  \n",
    "    tr.start()\n",
    "for tr in thread_pool:\n",
    "    tr.join()\n",
    "end = time.time()\n",
    "print(end - start)\n",
    "print(\"===========\")\n"
   ]
  },
  {
   "cell_type": "code",
   "execution_count": 12,
   "metadata": {},
   "outputs": [
    {
     "ename": "SyntaxError",
     "evalue": "invalid syntax (<ipython-input-12-1e4a6926492a>, line 1)",
     "output_type": "error",
     "traceback": [
      "\u001b[0;36m  File \u001b[0;32m\"<ipython-input-12-1e4a6926492a>\"\u001b[0;36m, line \u001b[0;32m1\u001b[0m\n\u001b[0;31m    Conditions:\u001b[0m\n\u001b[0m                ^\u001b[0m\n\u001b[0;31mSyntaxError\u001b[0m\u001b[0;31m:\u001b[0m invalid syntax\n"
     ]
    }
   ],
   "source": [
    "Conditions: "
   ]
  },
  {
   "cell_type": "code",
   "execution_count": 26,
   "metadata": {},
   "outputs": [
    {
     "name": "stdout",
     "output_type": "stream",
     "text": [
      "hello\n"
     ]
    }
   ],
   "source": [
    "if True :\n",
    "    print(\"hello\")"
   ]
  },
  {
   "cell_type": "code",
   "execution_count": 28,
   "metadata": {},
   "outputs": [
    {
     "name": "stdout",
     "output_type": "stream",
     "text": [
      "hello\n"
     ]
    }
   ],
   "source": [
    "a = 3\n",
    "b = 4\n",
    "if a<=b :\n",
    "    print(\"hello\")\n",
    "else:\n",
    "    print(\"bye\")"
   ]
  },
  {
   "cell_type": "code",
   "execution_count": 53,
   "metadata": {},
   "outputs": [
    {
     "name": "stdout",
     "output_type": "stream",
     "text": [
      "bigger\n"
     ]
    }
   ],
   "source": [
    "a = \"dadadada\"\n",
    "b = \"dadadadb\"\n",
    "if a<b :\n",
    "    print(\"bigger\")\n",
    "elif a>b:\n",
    "    print(\"smaller\")\n",
    "else:\n",
    "    print(\"equal\")"
   ]
  },
  {
   "cell_type": "code",
   "execution_count": 56,
   "metadata": {},
   "outputs": [
    {
     "name": "stdout",
     "output_type": "stream",
     "text": [
      "ok\n"
     ]
    }
   ],
   "source": [
    "a = [1,2,3]\n",
    "if 1 in a:\n",
    "    print(\"ok\")"
   ]
  },
  {
   "cell_type": "code",
   "execution_count": 57,
   "metadata": {},
   "outputs": [],
   "source": []
  },
  {
   "cell_type": "code",
   "execution_count": 18,
   "metadata": {},
   "outputs": [
    {
     "name": "stdout",
     "output_type": "stream",
     "text": [
      "in\n",
      "not in\n",
      "not in\n",
      "1\n"
     ]
    }
   ],
   "source": [
    "dict = {\"un\":1,\"deux\":2}\n",
    "if \"un\" in dict:\n",
    "    print(\"in\")\n",
    "else:\n",
    "    print(\"not in\")\n",
    "if 1 in dict:\n",
    "    print(\"in\")\n",
    "else:\n",
    "    print(\"not in\")\n",
    "if \"trois\" in dict:\n",
    "    print(\"in\")\n",
    "else:\n",
    "    print(\"not in\")\n",
    "print(dict[\"un\"])"
   ]
  },
  {
   "cell_type": "markdown",
   "metadata": {},
   "source": [
    "# Exceptions"
   ]
  },
  {
   "cell_type": "code",
   "execution_count": 94,
   "metadata": {},
   "outputs": [
    {
     "ename": "KeyError",
     "evalue": "'deux'",
     "output_type": "error",
     "traceback": [
      "\u001b[0;31m---------------------------------------------------------------------------\u001b[0m",
      "\u001b[0;31mKeyError\u001b[0m                                  Traceback (most recent call last)",
      "\u001b[0;32m<ipython-input-94-d9a1ff63b170>\u001b[0m in \u001b[0;36m<module>\u001b[0;34m\u001b[0m\n\u001b[1;32m      1\u001b[0m \u001b[0mdict\u001b[0m \u001b[0;34m=\u001b[0m \u001b[0;34m{\u001b[0m\u001b[0;34m\"un\"\u001b[0m\u001b[0;34m:\u001b[0m\u001b[0;36m1\u001b[0m\u001b[0;34m,\u001b[0m\u001b[0;34m\"de\"\u001b[0m\u001b[0;34m:\u001b[0m\u001b[0;36m2\u001b[0m\u001b[0;34m}\u001b[0m\u001b[0;34m\u001b[0m\u001b[0;34m\u001b[0m\u001b[0m\n\u001b[0;32m----> 2\u001b[0;31m \u001b[0mdict\u001b[0m\u001b[0;34m[\u001b[0m\u001b[0;34m\"deux\"\u001b[0m\u001b[0;34m]\u001b[0m\u001b[0;34m\u001b[0m\u001b[0;34m\u001b[0m\u001b[0m\n\u001b[0m",
      "\u001b[0;31mKeyError\u001b[0m: 'deux'"
     ]
    }
   ],
   "source": [
    "dict = {\"un\":1,\"de\":2}\n",
    "dict[\"deux\"]"
   ]
  },
  {
   "cell_type": "code",
   "execution_count": 95,
   "metadata": {},
   "outputs": [
    {
     "name": "stdout",
     "output_type": "stream",
     "text": [
      "cant do it, the key does not exist\n"
     ]
    }
   ],
   "source": [
    "try :\n",
    "    dict[\"deux\"]\n",
    "except:\n",
    "    print(\"cant do it, the key does not exist\")\n"
   ]
  },
  {
   "cell_type": "code",
   "execution_count": 96,
   "metadata": {},
   "outputs": [
    {
     "name": "stdout",
     "output_type": "stream",
     "text": [
      "<class 'KeyError'> 'deux'\n"
     ]
    }
   ],
   "source": [
    "try :\n",
    "    dict[\"deux\"]\n",
    "except Exception as e:\n",
    "    print(type(e),e)"
   ]
  },
  {
   "cell_type": "code",
   "execution_count": 97,
   "metadata": {},
   "outputs": [
    {
     "name": "stdout",
     "output_type": "stream",
     "text": [
      "cant do it, the key does not exist\n"
     ]
    }
   ],
   "source": [
    "try :\n",
    "    dict[\"deux\"]\n",
    "except KeyError:\n",
    "    print(\"cant do it, the key does not exist\")"
   ]
  },
  {
   "cell_type": "code",
   "execution_count": 122,
   "metadata": {},
   "outputs": [
    {
     "name": "stdout",
     "output_type": "stream",
     "text": [
      "<class 'TypeError'> 'set' object does not support item assignment\n",
      "{2, 3, -1}\n"
     ]
    }
   ],
   "source": [
    "aSet = set([1,2,3])\n",
    "try: \n",
    "    aSet[1] = -1\n",
    "except Exception as e:\n",
    "    print(type(e),e)\n",
    "    aSet.remove(1)\n",
    "    aSet.add(-1)\n",
    "    print(aSet)\n",
    "\n",
    "    "
   ]
  },
  {
   "cell_type": "markdown",
   "metadata": {},
   "source": [
    "# Args and Kwargs"
   ]
  },
  {
   "cell_type": "code",
   "execution_count": 99,
   "metadata": {},
   "outputs": [],
   "source": [
    "def funct(a,*args,**kwargs):\n",
    "    print(a)\n",
    "    print(args, type(args))\n",
    "    print(kwargs, type(kwargs))"
   ]
  },
  {
   "cell_type": "code",
   "execution_count": 102,
   "metadata": {},
   "outputs": [
    {
     "name": "stdout",
     "output_type": "stream",
     "text": [
      "a\n",
      "('args1', 'args2') <class 'tuple'>\n",
      "{'test': ('kwargs_test', 26), 'test2': 'kwargs_test2'} <class 'dict'>\n"
     ]
    }
   ],
   "source": [
    "funct(\"a\",\"args1\",\"args2\",test=(\"kwargs_test\",26),test2=\"kwargs_test2\" )"
   ]
  },
  {
   "cell_type": "code",
   "execution_count": 103,
   "metadata": {},
   "outputs": [],
   "source": [
    "def funct(**krawrg):\n",
    "    for i in krawrg:\n",
    "        print(i,krawrg[i])"
   ]
  },
  {
   "cell_type": "code",
   "execution_count": 104,
   "metadata": {},
   "outputs": [
    {
     "name": "stdout",
     "output_type": "stream",
     "text": [
      "animal cat\n",
      "color blue\n"
     ]
    }
   ],
   "source": [
    "funct(animal=\"cat\",color=\"blue\")"
   ]
  },
  {
   "cell_type": "code",
   "execution_count": 106,
   "metadata": {},
   "outputs": [
    {
     "name": "stdout",
     "output_type": "stream",
     "text": [
      "none -1 none\n",
      "none -1 none\n"
     ]
    }
   ],
   "source": [
    "class animals:\n",
    "    def __init__(self,**kwargs):\n",
    "        self.race = \"none\"\n",
    "        self.size = -1\n",
    "        self.color = \"none\"\n",
    "\n",
    "rex = animals()\n",
    "print(rex.race,rex.size,rex.color)\n",
    "rex = animals(race=\"dog\",color=\"blue\")\n",
    "print(rex.race,rex.size,rex.color)"
   ]
  },
  {
   "cell_type": "code",
   "execution_count": 108,
   "metadata": {},
   "outputs": [
    {
     "name": "stdout",
     "output_type": "stream",
     "text": [
      "dog -1 blue\n",
      "race -1 blue ohh\n"
     ]
    }
   ],
   "source": [
    "class animals:\n",
    "    def __init__(self,**kwargs):\n",
    "        self.race = \"none\"\n",
    "        self.size = -1\n",
    "        self.color = \"none\"\n",
    "        for item in kwargs:\n",
    "            try:\n",
    "                self.__dict__[item]=kwargs[item]\n",
    "            except:\n",
    "                pass\n",
    "\n",
    "rex = animals(race=\"dog\",color=\"blue\")\n",
    "print(rex.race,rex.size,rex.color)\n",
    "rex = animals(race=\"race\",color=\"blue\",add=\"ohh\")\n",
    "print(rex.race,rex.size,rex.color,rex.add)"
   ]
  },
  {
   "cell_type": "code",
   "execution_count": 2,
   "metadata": {},
   "outputs": [
    {
     "name": "stdout",
     "output_type": "stream",
     "text": [
      "race  :  dog\n",
      "size  :  -1\n",
      "color  :  blue\n",
      "add  :  ohh\n"
     ]
    }
   ],
   "source": [
    "class animals:\n",
    "    def __init__(self,**kwargs):\n",
    "        self.race = \"none\"\n",
    "        self.size = -1\n",
    "        self.color = \"none\"\n",
    "        self.__dict__.update(kwargs)\n",
    "    def print_animal(self):\n",
    "        for i in self.__dict__:\n",
    "            print(i, \" : \", self.__dict__[i] )\n",
    "        \n",
    "\n",
    "rex = animals(race=\"dog\",color=\"blue\",add=\"ohh\")\n",
    "rex.print_animal()"
   ]
  },
  {
   "cell_type": "code",
   "execution_count": 109,
   "metadata": {},
   "outputs": [
    {
     "name": "stdout",
     "output_type": "stream",
     "text": [
      "race : dog\n",
      "color : blue\n",
      "add : ohh\n",
      "dog blue ohh\n"
     ]
    }
   ],
   "source": [
    "class dataHolder:\n",
    "    def __init__(self,**kwargs):\n",
    "        \n",
    "        self.__dict__.update(kwargs)\n",
    "    def print_data(self):\n",
    "        for i in self.__dict__:\n",
    "            print(i, \":\", self.__dict__[i] )\n",
    "rex = dataHolder(race=\"dog\",color=\"blue\",add=\"ohh\")\n",
    "\n",
    "rex.print_data()\n",
    "print(rex.race,rex.color,rex.add)"
   ]
  },
  {
   "cell_type": "code",
   "execution_count": 111,
   "metadata": {},
   "outputs": [],
   "source": [
    "import matplotlib.pyplot as plt\n",
    "import numpy as np\n",
    "\n",
    "def plot_lines(x,y,*args):\n",
    "    plt.plot(x,y);\n",
    "    for i,ya in enumerate(args):\n",
    "        plt.plot(x,ya)"
   ]
  },
  {
   "cell_type": "code",
   "execution_count": 113,
   "metadata": {},
   "outputs": [
    {
     "data": {
      "image/png": "[encoded data removed]",
      "text/plain": [
       "<Figure size 432x288 with 1 Axes>"
      ]
     },
     "metadata": {
      "needs_background": "light"
     },
     "output_type": "display_data"
    }
   ],
   "source": [
    "x = np.array(range(10))\n",
    "y = np.full(10,1)\n",
    "y2 = np.full(10,2)\n",
    "y3 = np.full(10,3)\n",
    "plot_lines(x,y,y2,y3,y2)"
   ]
  },
  {
   "cell_type": "code",
   "execution_count": 8,
   "metadata": {},
   "outputs": [],
   "source": [
    "import matplotlib.pyplot as plt\n",
    "import numpy as np\n",
    "\n",
    "def plot_lines_factor(x,y,*args,**kwargs):\n",
    "    \n",
    "    if \"factors\" in kwargs:\n",
    "        if isinstance(kwargs['factors'],list):\n",
    "            factors = kwargs['factors']\n",
    "            if len(factors)<len(args):\n",
    "                factors += [1] * (len(args) - len(factors))\n",
    "                \n",
    "        else:\n",
    "            factors = [kwargs['factors']] * len(args)\n",
    "    else:\n",
    "        factors = [1] * len(args)\n",
    "    \n",
    "    plt.plot(x,y);\n",
    "    for i,ya in enumerate(args):\n",
    "        plt.plot(x,factors[i]*ya)\n",
    "    \n",
    "    "
   ]
  },
  {
   "cell_type": "code",
   "execution_count": 10,
   "metadata": {},
   "outputs": [
    {
     "data": {
      "image/png": "[encoded data removed]",
      "text/plain": [
       "<Figure size 432x288 with 1 Axes>"
      ]
     },
     "metadata": {
      "needs_background": "light"
     },
     "output_type": "display_data"
    }
   ],
   "source": [
    "plot_lines_factor(x,y,y2,y3,factors=[0.3,0.4])"
   ]
  },
  {
   "cell_type": "code",
   "execution_count": 118,
   "metadata": {},
   "outputs": [
    {
     "data": {
      "image/png": "[encoded data removed]",
      "text/plain": [
       "<Figure size 432x288 with 1 Axes>"
      ]
     },
     "metadata": {
      "needs_background": "light"
     },
     "output_type": "display_data"
    }
   ],
   "source": [
    "plot_lines_factor(x,y,y2,y3,factors=[0.7])"
   ]
  },
  {
   "cell_type": "code",
   "execution_count": 119,
   "metadata": {},
   "outputs": [
    {
     "data": {
      "image/png": "[encoded data removed]",
      "text/plain": [
       "<Figure size 432x288 with 1 Axes>"
      ]
     },
     "metadata": {
      "needs_background": "light"
     },
     "output_type": "display_data"
    }
   ],
   "source": [
    "plot_lines_factor(x,y,y2,y3,factors=0.7)"
   ]
  },
  {
   "cell_type": "code",
   "execution_count": 137,
   "metadata": {},
   "outputs": [],
   "source": [
    "# By value or by reference!!!"
   ]
  },
  {
   "cell_type": "code",
   "execution_count": 153,
   "metadata": {},
   "outputs": [
    {
     "name": "stdout",
     "output_type": "stream",
     "text": [
      "1 2 4364711056 4364711088\n",
      "2 2 4364711088 4364711088\n",
      "2 1 4364711088 4364711056\n"
     ]
    }
   ],
   "source": [
    "a = 1\n",
    "b = 2\n",
    "print(a,b,id(a),id(b))\n",
    "a=b\n",
    "print(a,b,id(a),id(b))\n",
    "b = 1\n",
    "print(a,b,id(a),id(b))"
   ]
  },
  {
   "cell_type": "code",
   "execution_count": 154,
   "metadata": {},
   "outputs": [
    {
     "name": "stdout",
     "output_type": "stream",
     "text": [
      "[1, 2, 3] [4, 5, 6] 4618673280 4616377840\n",
      "[4, 5, 6] [4, 5, 6] 4616377840 4616377840\n",
      "[4, 5, 6] 1 4616377840 4364711056\n"
     ]
    }
   ],
   "source": [
    "a = [1,2,3]\n",
    "b = [4,5,6]\n",
    "print(a,b,id(a),id(b))\n",
    "a=b\n",
    "print(a,b,id(a),id(b))\n",
    "b = [4,5,6]\n",
    "print(a,b,id(a),id(b))"
   ]
  },
  {
   "cell_type": "code",
   "execution_count": 156,
   "metadata": {},
   "outputs": [
    {
     "name": "stdout",
     "output_type": "stream",
     "text": [
      "1\n"
     ]
    }
   ],
   "source": [
    "def f(a):\n",
    "    a = 2\n",
    "a = 1\n",
    "f(a)\n",
    "print(a)"
   ]
  },
  {
   "cell_type": "code",
   "execution_count": 159,
   "metadata": {},
   "outputs": [
    {
     "name": "stdout",
     "output_type": "stream",
     "text": [
      "[2]\n"
     ]
    }
   ],
   "source": [
    "def f(a):\n",
    "    a[0] = 2\n",
    "a = [1]\n",
    "f(a)\n",
    "print(a)"
   ]
  },
  {
   "cell_type": "code",
   "execution_count": 142,
   "metadata": {},
   "outputs": [],
   "source": [
    "def f(a,b):\n",
    "    a = b\n",
    "    print(a,b,id(a),id(b))"
   ]
  },
  {
   "cell_type": "code",
   "execution_count": 143,
   "metadata": {},
   "outputs": [
    {
     "name": "stdout",
     "output_type": "stream",
     "text": [
      "1 2 4364711056 4364711088\n",
      "2 2 4364711088 4364711088\n",
      "1 2 4364711056 4364711088\n"
     ]
    }
   ],
   "source": [
    "a = 1\n",
    "b = 2\n",
    "print(a,b,id(a),id(b))\n",
    "f(a,b)\n",
    "print(a,b,id(a),id(b))"
   ]
  },
  {
   "cell_type": "code",
   "execution_count": 146,
   "metadata": {},
   "outputs": [],
   "source": [
    "def f(a,b):\n",
    "    a = b\n",
    "    a[0] = 7\n",
    "    print(a,b,id(a),id(b))"
   ]
  },
  {
   "cell_type": "code",
   "execution_count": 147,
   "metadata": {},
   "outputs": [
    {
     "name": "stdout",
     "output_type": "stream",
     "text": [
      "[1, 2, 3] [4, 5, 6] 4425706384 4617032960\n",
      "[7, 5, 6] [7, 5, 6] 4617032960 4617032960\n",
      "[1, 2, 3] [7, 5, 6] 4425706384 4617032960\n"
     ]
    }
   ],
   "source": [
    "a = [1,2,3]\n",
    "b = [4,5,6]\n",
    "print(a,b,id(a),id(b))\n",
    "f(a,b)\n",
    "print(a,b,id(a),id(b))"
   ]
  },
  {
   "cell_type": "code",
   "execution_count": 4,
   "metadata": {},
   "outputs": [
    {
     "name": "stdout",
     "output_type": "stream",
     "text": [
      "1 2 4431889552 4431889584\n",
      "2 2 4431889584 4431889584\n",
      "2 2 4431889584 4431889584\n",
      "3 2 4431889616 4431889584\n"
     ]
    }
   ],
   "source": [
    "class someData:\n",
    "    data = 1\n",
    "    \n",
    "a = someData()\n",
    "a.data = 1\n",
    "b = someData()\n",
    "b.data = 2\n",
    "print(a.data,b.data,id(a.data),id(b.data))\n",
    "def f(a,b):\n",
    "    a.data = b.data\n",
    "    print(a.data,b.data,id(a.data),id(b.data))\n",
    "    \n",
    "f(a,b)\n",
    "print(a.data,b.data,id(a.data),id(b.data))\n",
    "\n",
    "#but !!!\n",
    "a.data = 3\n",
    "print(a.data,b.data,id(a.data),id(b.data))"
   ]
  },
  {
   "cell_type": "markdown",
   "metadata": {},
   "source": [
    "# Function pointer\n",
    "\n",
    "Python have no Function pointer but one can turn around this using dictionnary:"
   ]
  },
  {
   "cell_type": "code",
   "execution_count": 63,
   "metadata": {},
   "outputs": [],
   "source": [
    "def funct(*args):\n",
    "    return np.sum(args)"
   ]
  },
  {
   "cell_type": "code",
   "execution_count": 64,
   "metadata": {},
   "outputs": [],
   "source": [
    "dict = {\"mySum\": funct}"
   ]
  },
  {
   "cell_type": "code",
   "execution_count": 67,
   "metadata": {},
   "outputs": [
    {
     "data": {
      "text/plain": [
       "254"
      ]
     },
     "execution_count": 67,
     "metadata": {},
     "output_type": "execute_result"
    }
   ],
   "source": [
    "dict[\"mySum\"]([32,32,3,4,23],[32,32,32,32,32])"
   ]
  },
  {
   "cell_type": "markdown",
   "metadata": {},
   "source": [
    "# The \"with\" keyword\n",
    "\n",
    "A way to ensure some cleaning even if an exception is thrown."
   ]
  },
  {
   "cell_type": "code",
   "execution_count": 35,
   "metadata": {},
   "outputs": [
    {
     "name": "stdout",
     "output_type": "stream",
     "text": [
      "open\n",
      "closed\n"
     ]
    }
   ],
   "source": [
    "def isOpen(f):\n",
    "    if f.closed :\n",
    "        print(\"closed\")\n",
    "    else:\n",
    "        print(\"open\")\n",
    "\n",
    "with open('output.txt', 'w') as f:\n",
    "    f.write('Hi there!')\n",
    "    isOpen(f)\n",
    "isOpen(f)"
   ]
  },
  {
   "cell_type": "markdown",
   "metadata": {},
   "source": [
    "### Build a class with context manager:"
   ]
  },
  {
   "cell_type": "code",
   "execution_count": 43,
   "metadata": {},
   "outputs": [
    {
     "name": "stdout",
     "output_type": "stream",
     "text": [
      "constructor called\n",
      "we start the with\n",
      "we stop the with, so I can do a bit of cleaning/restoring/.....\n",
      "<class 'TypeError'> 'int' object is not subscriptable\n"
     ]
    }
   ],
   "source": [
    "class myFunct:\n",
    "    def __init__(self,a):\n",
    "        self.a = a\n",
    "        print(\"constructor called\")\n",
    "    def __enter__(self):\n",
    "        print(\"we start the with\")\n",
    "        return self.a\n",
    "    def __exit__(self, type, value, traceback):\n",
    "        print(\"we stop the with, so I can do a bit of cleaning/restoring/.....\")\n",
    "try:  \n",
    "    with myFunct(2) as a:\n",
    "        print(a[2])\n",
    "except Exception as e:\n",
    "    print(type(e),e)"
   ]
  },
  {
   "cell_type": "markdown",
   "metadata": {},
   "source": [
    "### Build a function with a context manager:"
   ]
  },
  {
   "cell_type": "code",
   "execution_count": 115,
   "metadata": {},
   "outputs": [],
   "source": [
    "def myFunct(a):\n",
    "    def __enter__():\n",
    "        print(\"we start the with\")\n",
    "        return self.a\n",
    "    def __exit__(type, value, traceback):\n",
    "        print(\"we stop the with, so I can do a bit of cleaning/restoring/.....\")\n",
    "    return a"
   ]
  },
  {
   "cell_type": "code",
   "execution_count": 116,
   "metadata": {},
   "outputs": [
    {
     "ename": "AttributeError",
     "evalue": "__enter__",
     "output_type": "error",
     "traceback": [
      "\u001b[0;31m---------------------------------------------------------------------------\u001b[0m",
      "\u001b[0;31mAttributeError\u001b[0m                            Traceback (most recent call last)",
      "\u001b[0;32m<ipython-input-116-ed9c8e91a3d1>\u001b[0m in \u001b[0;36m<module>\u001b[0;34m\u001b[0m\n\u001b[0;32m----> 1\u001b[0;31m \u001b[0;32mwith\u001b[0m \u001b[0mmyFunct\u001b[0m\u001b[0;34m(\u001b[0m\u001b[0;36m2\u001b[0m\u001b[0;34m)\u001b[0m \u001b[0;32mas\u001b[0m \u001b[0ma\u001b[0m\u001b[0;34m:\u001b[0m\u001b[0;34m\u001b[0m\u001b[0;34m\u001b[0m\u001b[0m\n\u001b[0m\u001b[1;32m      2\u001b[0m         \u001b[0mprint\u001b[0m\u001b[0;34m(\u001b[0m\u001b[0ma\u001b[0m\u001b[0;34m)\u001b[0m\u001b[0;34m\u001b[0m\u001b[0;34m\u001b[0m\u001b[0m\n",
      "\u001b[0;31mAttributeError\u001b[0m: __enter__"
     ]
    }
   ],
   "source": [
    "with myFunct(2) as a:\n",
    "        print(a)"
   ]
  },
  {
   "cell_type": "markdown",
   "metadata": {},
   "source": [
    "### It does not work.... Indeed for function one need to use generators...\n",
    "\n",
    "# The yield keyword:"
   ]
  },
  {
   "cell_type": "code",
   "execution_count": 117,
   "metadata": {},
   "outputs": [],
   "source": [
    "def funct(a):\n",
    "    print(\"done before yield\")\n",
    "    yield a\n",
    "    print(\"done after yield\")"
   ]
  },
  {
   "cell_type": "code",
   "execution_count": 118,
   "metadata": {},
   "outputs": [
    {
     "name": "stdout",
     "output_type": "stream",
     "text": [
      "done before yield\n",
      "test\n",
      "done after yield\n"
     ]
    }
   ],
   "source": [
    "for a in funct(\"test\"):\n",
    "    print(a)"
   ]
  },
  {
   "cell_type": "code",
   "execution_count": 55,
   "metadata": {},
   "outputs": [
    {
     "name": "stdout",
     "output_type": "stream",
     "text": [
      "<generator object nextSquare at 0x103a48a50>\n"
     ]
    }
   ],
   "source": [
    "def nextSquare():\n",
    "    i=1\n",
    "    while True:\n",
    "        yield i*i  \n",
    "        i += 1\n",
    "print(nextSquare())"
   ]
  },
  {
   "cell_type": "code",
   "execution_count": 119,
   "metadata": {},
   "outputs": [
    {
     "name": "stdout",
     "output_type": "stream",
     "text": [
      "1\n",
      "4\n",
      "9\n",
      "16\n",
      "25\n",
      "36\n",
      "49\n",
      "64\n",
      "81\n",
      "100\n"
     ]
    }
   ],
   "source": [
    "for num in nextSquare():  \n",
    "    if num > 100:  \n",
    "        break    \n",
    "    print(num)  "
   ]
  },
  {
   "cell_type": "code",
   "execution_count": 120,
   "metadata": {},
   "outputs": [
    {
     "name": "stdout",
     "output_type": "stream",
     "text": [
      "1\n",
      "4\n",
      "9\n"
     ]
    }
   ],
   "source": [
    "sq = nextSquare()\n",
    "print(next(sq))\n",
    "print(next(sq))\n",
    "print(next(sq))"
   ]
  },
  {
   "cell_type": "code",
   "execution_count": 121,
   "metadata": {},
   "outputs": [],
   "source": [
    "class stupidLearning:\n",
    "    def __init__(self,i):\n",
    "        self.i = i\n",
    "    def learn(self,s):\n",
    "        start = s\n",
    "        while True:\n",
    "            start -= 0.1*self.i\n",
    "            yield start"
   ]
  },
  {
   "cell_type": "code",
   "execution_count": 122,
   "metadata": {},
   "outputs": [],
   "source": [
    "sL = stupidLearning(3)"
   ]
  },
  {
   "cell_type": "code",
   "execution_count": 123,
   "metadata": {},
   "outputs": [
    {
     "name": "stdout",
     "output_type": "stream",
     "text": [
      "1.7\n",
      "1.4\n",
      "1.0999999999999999\n",
      "0.7999999999999998\n"
     ]
    }
   ],
   "source": [
    "for i in sL.learn(2):\n",
    "    if i<0.5:\n",
    "        break\n",
    "    print(i)"
   ]
  },
  {
   "cell_type": "code",
   "execution_count": 54,
   "metadata": {},
   "outputs": [
    {
     "name": "stdout",
     "output_type": "stream",
     "text": [
      "The number of geeks in string is : 3\n"
     ]
    }
   ],
   "source": [
    "def print_even(test_string) : \n",
    "    for i in test_string: \n",
    "        if i == \"geeks\": \n",
    "            yield i \n",
    "  \n",
    "# initializing string \n",
    "test_string = \" The are many geeks around you, geeks are known for teaching other geeks\" \n",
    "  \n",
    "# printing even numbers using yield \n",
    "count = 0\n",
    "print (\"The number of geeks in string is : \", end = \"\" ) \n",
    "test_string = test_string.split() \n",
    "  \n",
    "for j in print_even(test_string): \n",
    "    count = count + 1\n",
    "  \n",
    "print (count) "
   ]
  },
  {
   "cell_type": "markdown",
   "metadata": {},
   "source": [
    "What is the advantage of yield:\n",
    "    \n",
    "yield allow to keep all internal data of a function:\n",
    "- for a search in a large dataset would yield each result and continue to travel the dataset\n",
    "- during a learning process, one can yield some values and stop the learning with a conditional\n",
    "- for a data analysis pipeline it allow to keep the memory cost low as, instead of a list, a generator only store the curent state and not the entire list.\n",
    "- in machine learning generators a typically used to generate batches."
   ]
  },
  {
   "cell_type": "code",
   "execution_count": 69,
   "metadata": {},
   "outputs": [
    {
     "name": "stdout",
     "output_type": "stream",
     "text": [
      "[0 1 2 3 4]\n",
      "[5 6 7 8 9]\n",
      "[10 11 12 13 14]\n",
      "[15 16 17 18 19]\n",
      "[20 21 22 23 24]\n",
      "[25 26 27 28 29]\n",
      "[30 31 32 33 34]\n",
      "[35 36 37 38 39]\n"
     ]
    }
   ],
   "source": [
    "import numpy as np\n",
    "dataSize = 40\n",
    "batchSize = 5\n",
    "a = np.array(range(dataSize))\n",
    "\n",
    "def batchGenerator(dataSize,batchSize,data):\n",
    "    nBatch = dataSize//batchSize\n",
    "    for c in range(nBatch):\n",
    "        yield data[c*batchSize:(c+1)*batchSize]\n",
    "        \n",
    "bg = batchGenerator(dataSize,batchSize,a)\n",
    "\n",
    "for i in bg:\n",
    "    print(i)"
   ]
  },
  {
   "cell_type": "code",
   "execution_count": null,
   "metadata": {},
   "outputs": [],
   "source": []
  }
 ],
 "metadata": {
  "kernelspec": {
   "display_name": "Python 3",
   "language": "python",
   "name": "python3"
  },
  "language_info": {
   "codemirror_mode": {
    "name": "ipython",
    "version": 3
   },
   "file_extension": ".py",
   "mimetype": "text/x-python",
   "name": "python",
   "nbconvert_exporter": "python",
   "pygments_lexer": "ipython3",
   "version": "3.7.3"
  }
 },
 "nbformat": 4,
 "nbformat_minor": 2
}
